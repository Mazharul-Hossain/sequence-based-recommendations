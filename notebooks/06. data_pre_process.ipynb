{
 "cells": [
  {
   "cell_type": "code",
   "execution_count": null,
   "metadata": {},
   "outputs": [],
   "source": [
    "import sys\n",
    "print(sys.executable)"
   ]
  },
  {
   "cell_type": "markdown",
   "metadata": {},
   "source": [
    "## 1. First we import necessary Libaries"
   ]
  },
  {
   "cell_type": "code",
   "execution_count": null,
   "metadata": {},
   "outputs": [],
   "source": [
    "import pandas as pd # pandas is a data manipulation library\n",
    "import numpy as np #provides numerical arrays and functions to manipulate the arrays efficiently\n",
    "import re\n",
    "from sklearn.preprocessing import OneHotEncoder, MultiLabelBinarizer"
   ]
  },
  {
   "cell_type": "markdown",
   "metadata": {},
   "source": [
    "### 2. Load Movies Data"
   ]
  },
  {
   "cell_type": "code",
   "execution_count": null,
   "metadata": {},
   "outputs": [],
   "source": [
    "filename = \"../datasets/movies.csv\""
   ]
  },
  {
   "cell_type": "code",
   "execution_count": null,
   "metadata": {},
   "outputs": [],
   "source": [
    "movies = pd.read_csv(filename)"
   ]
  },
  {
   "cell_type": "code",
   "execution_count": null,
   "metadata": {},
   "outputs": [],
   "source": [
    "movies.sample(5)"
   ]
  },
  {
   "cell_type": "markdown",
   "metadata": {},
   "source": [
    "### 2.1 Reading Movie Release Year"
   ]
  },
  {
   "cell_type": "code",
   "execution_count": null,
   "metadata": {},
   "outputs": [],
   "source": [
    "def title_to_release_year(s):\n",
    "    m = re.findall(r\"\\(([0-9]+)\\)\", s)\n",
    "    \n",
    "    # https://www.guru99.com/python-regular-expressions-complete-tutorial.html\n",
    "    if m is None or len(m) <= 0:\n",
    "        return None        \n",
    "    return m[-1]\n",
    "\n",
    "movies['year']  = movies['title'].apply(title_to_release_year)\n",
    "movies['year'].fillna(\"1900\", inplace = True)"
   ]
  },
  {
   "cell_type": "markdown",
   "metadata": {},
   "source": [
    "### 2.2 Create Genres "
   ]
  },
  {
   "cell_type": "code",
   "execution_count": null,
   "metadata": {},
   "outputs": [],
   "source": [
    "movies['genres_list'] = movies.apply(lambda row: row.genres.split('|'), axis=1)\n",
    "\n",
    "# https://stackoverflow.com/a/58114603\n",
    "genres_encoder = MultiLabelBinarizer()\n",
    "transformed = genres_encoder.fit_transform(movies['genres_list'])\n",
    "print(len(genres_encoder.classes_), genres_encoder.classes_)\n",
    "\n",
    "ohe_df = pd.DataFrame(transformed)\n",
    "data = pd.concat([movies, ohe_df], axis=1)\n",
    "\n",
    "data.sample(5)"
   ]
  },
  {
   "cell_type": "markdown",
   "metadata": {},
   "source": [
    "### 2.3 Get item to item mapping "
   ]
  },
  {
   "cell_type": "code",
   "execution_count": null,
   "metadata": {},
   "outputs": [],
   "source": [
    "item_id_mapping = pd.read_csv(\"../datasets/data/item_id_mapping.txt\", sep='\\t', index_col=False)\n",
    "item_id_mapping = item_id_mapping.sort_values(by=['new_id'])\n",
    "item_id_mapping = item_id_mapping.rename(columns={'original_id':'movieId'})\n",
    "item_id_mapping.head(5)"
   ]
  },
  {
   "cell_type": "code",
   "execution_count": null,
   "metadata": {
    "scrolled": true
   },
   "outputs": [],
   "source": [
    "item_id_mapping.shape"
   ]
  },
  {
   "cell_type": "code",
   "execution_count": null,
   "metadata": {
    "scrolled": true
   },
   "outputs": [],
   "source": [
    "movies_data=item_id_mapping.merge(data, on = 'movieId', how = 'inner')\n",
    "movies_data.head()"
   ]
  },
  {
   "cell_type": "code",
   "execution_count": null,
   "metadata": {},
   "outputs": [],
   "source": [
    "movies_data.shape"
   ]
  },
  {
   "cell_type": "code",
   "execution_count": null,
   "metadata": {
    "scrolled": true
   },
   "outputs": [],
   "source": [
    "columns = ['movieId', 'year'] + list(data.columns[-20:])\n",
    "# print(columns)\n",
    "temp_data = movies_data.loc[:][columns]\n",
    "\n",
    "temp_data.head()"
   ]
  },
  {
   "cell_type": "code",
   "execution_count": null,
   "metadata": {},
   "outputs": [],
   "source": [
    "temp_data.to_csv(\"../datasets/data/movies_features.txt\", index=False)"
   ]
  },
  {
   "cell_type": "code",
   "execution_count": null,
   "metadata": {},
   "outputs": [],
   "source": [
    "np.array(temp_data.head())"
   ]
  },
  {
   "cell_type": "code",
   "execution_count": null,
   "metadata": {},
   "outputs": [],
   "source": []
  },
  {
   "cell_type": "code",
   "execution_count": null,
   "metadata": {},
   "outputs": [],
   "source": []
  },
  {
   "cell_type": "code",
   "execution_count": null,
   "metadata": {},
   "outputs": [],
   "source": [
    "new_temp_data = pd.read_csv(\"../datasets/data/movies_features.txt\")\n",
    "new_temp_data.head()"
   ]
  },
  {
   "cell_type": "code",
   "execution_count": null,
   "metadata": {},
   "outputs": [],
   "source": [
    "np.array(new_temp_data)"
   ]
  }
 ],
 "metadata": {
  "kernelspec": {
   "display_name": "theano",
   "language": "python",
   "name": "theano"
  },
  "language_info": {
   "codemirror_mode": {
    "name": "ipython",
    "version": 3
   },
   "file_extension": ".py",
   "mimetype": "text/x-python",
   "name": "python",
   "nbconvert_exporter": "python",
   "pygments_lexer": "ipython3",
   "version": "3.7.9"
  }
 },
 "nbformat": 4,
 "nbformat_minor": 4
}
