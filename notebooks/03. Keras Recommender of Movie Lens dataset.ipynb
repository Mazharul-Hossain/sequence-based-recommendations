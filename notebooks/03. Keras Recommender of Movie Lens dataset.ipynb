{
 "cells": [
  {
   "cell_type": "markdown",
   "metadata": {},
   "source": [
    "# Analysis of MovieLens dataset (Beginner'sAnalysis)\n",
    "https://www.kaggle.com/jneupane12/analysis-of-movielens-dataset-beginner-sanalysis"
   ]
  },
  {
   "cell_type": "code",
   "execution_count": 1,
   "metadata": {},
   "outputs": [
    {
     "name": "stdout",
     "output_type": "stream",
     "text": [
      "E:\\ProgramData\\Anaconda3\\envs\\tensorflow_gpuenv\\python.exe\n"
     ]
    }
   ],
   "source": [
    "import sys\n",
    "print(sys.executable)"
   ]
  },
  {
   "cell_type": "code",
   "execution_count": 2,
   "metadata": {
    "scrolled": true
   },
   "outputs": [
    {
     "data": {
      "text/plain": [
       "'C:\\\\Users\\\\mazha\\\\AppData\\\\Roaming\\\\Python\\\\Python37\\\\site-packages\\\\pywin32_system32;E:\\\\ProgramData\\\\Anaconda3\\\\envs\\\\tensorflow_gpuenv;E:\\\\ProgramData\\\\Anaconda3\\\\envs\\\\tensorflow_gpuenv\\\\Library\\\\mingw-w64\\\\bin;E:\\\\ProgramData\\\\Anaconda3\\\\envs\\\\tensorflow_gpuenv\\\\Library\\\\usr\\\\bin;E:\\\\ProgramData\\\\Anaconda3\\\\envs\\\\tensorflow_gpuenv\\\\Library\\\\bin;E:\\\\ProgramData\\\\Anaconda3\\\\envs\\\\tensorflow_gpuenv\\\\Scripts;E:\\\\ProgramData\\\\Anaconda3\\\\envs\\\\tensorflow_gpuenv\\\\bin;E:\\\\ProgramData\\\\Anaconda3;E:\\\\ProgramData\\\\Anaconda3\\\\Library\\\\mingw-w64\\\\bin;E:\\\\ProgramData\\\\Anaconda3\\\\Library\\\\usr\\\\bin;E:\\\\ProgramData\\\\Anaconda3\\\\Library\\\\bin;E:\\\\ProgramData\\\\Anaconda3\\\\Scripts;E:\\\\ProgramData\\\\Anaconda3\\\\bin;E:\\\\ProgramData\\\\Anaconda3;E:\\\\ProgramData\\\\Anaconda3\\\\Library\\\\mingw-w64\\\\bin;E:\\\\ProgramData\\\\Anaconda3\\\\Library\\\\usr\\\\bin;E:\\\\ProgramData\\\\Anaconda3\\\\Library\\\\bin;E:\\\\ProgramData\\\\Anaconda3\\\\Scripts;E:\\\\ProgramData\\\\Anaconda3\\\\bin;E:\\\\ProgramData\\\\Anaconda3;E:\\\\ProgramData\\\\Anaconda3\\\\Library\\\\mingw-w64\\\\bin;E:\\\\ProgramData\\\\Anaconda3\\\\Library\\\\usr\\\\bin;E:\\\\ProgramData\\\\Anaconda3\\\\Library\\\\bin;E:\\\\ProgramData\\\\Anaconda3\\\\Scripts;E:\\\\ProgramData\\\\Anaconda3\\\\bin;E:\\\\ProgramData\\\\Anaconda3;E:\\\\ProgramData\\\\Anaconda3\\\\Library\\\\mingw-w64\\\\bin;E:\\\\ProgramData\\\\Anaconda3\\\\Library\\\\usr\\\\bin;E:\\\\ProgramData\\\\Anaconda3\\\\Library\\\\bin;E:\\\\ProgramData\\\\Anaconda3\\\\Scripts;E:\\\\ProgramData\\\\Anaconda3\\\\bin;E:\\\\ProgramData\\\\Anaconda3;E:\\\\ProgramData\\\\Anaconda3\\\\Library\\\\mingw-w64\\\\bin;E:\\\\ProgramData\\\\Anaconda3\\\\Library\\\\usr\\\\bin;E:\\\\ProgramData\\\\Anaconda3\\\\Library\\\\bin;E:\\\\ProgramData\\\\Anaconda3\\\\Scripts;E:\\\\ProgramData\\\\Anaconda3\\\\bin;E:\\\\ProgramData\\\\Anaconda3;E:\\\\ProgramData\\\\Anaconda3\\\\Library\\\\mingw-w64\\\\bin;E:\\\\ProgramData\\\\Anaconda3\\\\Library\\\\usr\\\\bin;E:\\\\ProgramData\\\\Anaconda3\\\\Library\\\\bin;E:\\\\ProgramData\\\\Anaconda3\\\\Scripts;E:\\\\ProgramData\\\\Anaconda3\\\\bin;E:\\\\ProgramData\\\\Anaconda3;E:\\\\ProgramData\\\\Anaconda3\\\\Library\\\\mingw-w64\\\\bin;E:\\\\ProgramData\\\\Anaconda3\\\\Library\\\\usr\\\\bin;E:\\\\ProgramData\\\\Anaconda3\\\\Library\\\\bin;E:\\\\ProgramData\\\\Anaconda3\\\\Scripts;E:\\\\ProgramData\\\\Anaconda3\\\\bin;E:\\\\ProgramData\\\\Anaconda3;E:\\\\ProgramData\\\\Anaconda3\\\\Library\\\\mingw-w64\\\\bin;E:\\\\ProgramData\\\\Anaconda3\\\\Library\\\\usr\\\\bin;E:\\\\ProgramData\\\\Anaconda3\\\\Library\\\\bin;E:\\\\ProgramData\\\\Anaconda3\\\\Scripts;E:\\\\ProgramData\\\\Anaconda3\\\\bin;E:\\\\ProgramData\\\\Anaconda3;E:\\\\ProgramData\\\\Anaconda3\\\\Library\\\\mingw-w64\\\\bin;E:\\\\ProgramData\\\\Anaconda3\\\\Library\\\\usr\\\\bin;E:\\\\ProgramData\\\\Anaconda3\\\\Library\\\\bin;E:\\\\ProgramData\\\\Anaconda3\\\\Scripts;E:\\\\ProgramData\\\\Anaconda3\\\\bin;E:\\\\ProgramData\\\\Anaconda3;E:\\\\ProgramData\\\\Anaconda3\\\\Library\\\\mingw-w64\\\\bin;E:\\\\ProgramData\\\\Anaconda3\\\\Library\\\\usr\\\\bin;E:\\\\ProgramData\\\\Anaconda3\\\\Library\\\\bin;E:\\\\ProgramData\\\\Anaconda3\\\\Scripts;E:\\\\ProgramData\\\\Anaconda3\\\\bin;E:\\\\ProgramData\\\\Anaconda3;E:\\\\ProgramData\\\\Anaconda3\\\\Library\\\\mingw-w64\\\\bin;E:\\\\ProgramData\\\\Anaconda3\\\\Library\\\\usr\\\\bin;E:\\\\ProgramData\\\\Anaconda3\\\\Library\\\\bin;E:\\\\ProgramData\\\\Anaconda3\\\\Scripts;E:\\\\ProgramData\\\\Anaconda3\\\\bin;E:\\\\ProgramData\\\\Anaconda3;E:\\\\ProgramData\\\\Anaconda3\\\\Library\\\\mingw-w64\\\\bin;E:\\\\ProgramData\\\\Anaconda3\\\\Library\\\\usr\\\\bin;E:\\\\ProgramData\\\\Anaconda3\\\\Library\\\\bin;E:\\\\ProgramData\\\\Anaconda3\\\\Scripts;E:\\\\ProgramData\\\\Anaconda3\\\\bin;E:\\\\ProgramData\\\\Anaconda3;E:\\\\ProgramData\\\\Anaconda3\\\\Library\\\\mingw-w64\\\\bin;E:\\\\ProgramData\\\\Anaconda3\\\\Library\\\\usr\\\\bin;E:\\\\ProgramData\\\\Anaconda3\\\\Library\\\\bin;E:\\\\ProgramData\\\\Anaconda3\\\\Scripts;E:\\\\ProgramData\\\\Anaconda3\\\\bin;E:\\\\ProgramData\\\\Anaconda3;E:\\\\ProgramData\\\\Anaconda3\\\\Library\\\\mingw-w64\\\\bin;E:\\\\ProgramData\\\\Anaconda3\\\\Library\\\\usr\\\\bin;E:\\\\ProgramData\\\\Anaconda3\\\\Library\\\\bin;E:\\\\ProgramData\\\\Anaconda3\\\\Scripts;E:\\\\ProgramData\\\\Anaconda3\\\\bin;E:\\\\ProgramData\\\\Anaconda3;E:\\\\ProgramData\\\\Anaconda3\\\\Library\\\\mingw-w64\\\\bin;E:\\\\ProgramData\\\\Anaconda3\\\\Library\\\\usr\\\\bin;E:\\\\ProgramData\\\\Anaconda3\\\\Library\\\\bin;E:\\\\ProgramData\\\\Anaconda3\\\\Scripts;E:\\\\ProgramData\\\\Anaconda3\\\\bin;E:\\\\ProgramData\\\\Anaconda3;E:\\\\ProgramData\\\\Anaconda3\\\\Library\\\\mingw-w64\\\\bin;E:\\\\ProgramData\\\\Anaconda3\\\\Library\\\\usr\\\\bin;E:\\\\ProgramData\\\\Anaconda3\\\\Library\\\\bin;E:\\\\ProgramData\\\\Anaconda3\\\\Scripts;E:\\\\ProgramData\\\\Anaconda3\\\\bin;E:\\\\ProgramData\\\\Anaconda3;E:\\\\ProgramData\\\\Anaconda3\\\\Library\\\\mingw-w64\\\\bin;E:\\\\ProgramData\\\\Anaconda3\\\\Library\\\\usr\\\\bin;E:\\\\ProgramData\\\\Anaconda3\\\\Library\\\\bin;E:\\\\ProgramData\\\\Anaconda3\\\\Scripts;E:\\\\ProgramData\\\\Anaconda3\\\\bin;E:\\\\ProgramData\\\\Anaconda3\\\\condabin;E:\\\\ProgramData\\\\Anaconda3;E:\\\\ProgramData\\\\Anaconda3\\\\Library\\\\mingw-w64\\\\bin;E:\\\\ProgramData\\\\Anaconda3\\\\Library\\\\usr\\\\bin;E:\\\\ProgramData\\\\Anaconda3\\\\Library\\\\bin;E:\\\\ProgramData\\\\Anaconda3\\\\Scripts;E:\\\\ProgramData\\\\Anaconda3\\\\bin;C:\\\\Windows\\\\system32;C:\\\\Windows;C:\\\\Windows\\\\System32\\\\Wbem;C:\\\\Windows\\\\System32\\\\WindowsPowerShell\\\\v1.0;C:\\\\Program Files (x86)\\\\NVIDIA Corporation\\\\PhysX\\\\Common;C:\\\\WINDOWS\\\\system32;C:\\\\WINDOWS;C:\\\\WINDOWS\\\\System32\\\\Wbem;C:\\\\WINDOWS\\\\System32\\\\WindowsPowerShell\\\\v1.0;C:\\\\WINDOWS\\\\System32\\\\OpenSSH;C:\\\\Program Files\\\\Microsoft SQL Server\\\\130\\\\Tools\\\\Binn;E:\\\\Program Files\\\\Git\\\\cmd;E:\\\\Program Files (x86)\\\\Insta360Stitcher\\\\tools\\\\proStitcher;C:\\\\Program Files\\\\NVIDIA Corporation\\\\NVIDIA NvDLISR;C:\\\\WINDOWS\\\\system32;C:\\\\WINDOWS;C:\\\\WINDOWS\\\\System32\\\\Wbem;C:\\\\WINDOWS\\\\System32\\\\WindowsPowerShell\\\\v1.0;C:\\\\WINDOWS\\\\System32\\\\OpenSSH;C:\\\\Program Files\\\\Intel\\\\WiFi\\\\bin;C:\\\\Program Files\\\\Common Files\\\\Intel\\\\WirelessCommon;C:\\\\Program Files\\\\EmEditor;C:\\\\Program Files (x86)\\\\Intel\\\\Intel(R) Management Engine Components\\\\DAL;C:\\\\Program Files\\\\Intel\\\\Intel(R) Management Engine Components\\\\DAL;C:\\\\Users\\\\mazha\\\\AppData\\\\Local\\\\Microsoft\\\\WindowsApps;C:\\\\Users\\\\mazha\\\\AppData\\\\Local\\\\GitHubDesktop\\\\bin;C:\\\\Program Files\\\\Intel\\\\WiFi\\\\bin;C:\\\\Program Files\\\\Common Files\\\\Intel\\\\WirelessCommon;E:\\\\Program Files (x86)\\\\Insta360Stitcher\\\\tools\\\\proStitcher;E:\\\\ProgramData\\\\Anaconda3;E:\\\\ProgramData\\\\Anaconda3\\\\Scripts;.;.;C:\\\\Users\\\\mazha\\\\AppData\\\\Local\\\\Microsoft\\\\WindowsApps;E:\\\\Program Files\\\\Microsoft VS Code\\\\bin;E:\\\\Program Files\\\\heroku\\\\bin'"
      ]
     },
     "execution_count": 2,
     "metadata": {},
     "output_type": "execute_result"
    }
   ],
   "source": [
    "import os\n",
    "os.environ['PATH']"
   ]
  },
  {
   "cell_type": "markdown",
   "metadata": {},
   "source": [
    "## 1. First we import necessary Libaries"
   ]
  },
  {
   "cell_type": "code",
   "execution_count": 3,
   "metadata": {
    "scrolled": false
   },
   "outputs": [],
   "source": [
    "import numpy as np #provides numerical arrays and functions to manipulate the arrays efficiently\n",
    "import pandas as pd # pandas is a data manipulation library\n",
    "import random\n",
    "import matplotlib.pyplot as plt # data visualization library\n",
    "import time\n",
    "import datetime\n",
    "import re"
   ]
  },
  {
   "cell_type": "markdown",
   "metadata": {},
   "source": [
    "## 2.Reading and Exploring the Data"
   ]
  },
  {
   "cell_type": "code",
   "execution_count": 4,
   "metadata": {},
   "outputs": [],
   "source": [
    "movies = pd.read_csv(\"datasets/movies.csv\")\n",
    "ratings = pd.read_csv(\"datasets/ratings.csv\")\n",
    "tags = pd.read_csv(\"datasets/tags.csv\")"
   ]
  },
  {
   "cell_type": "markdown",
   "metadata": {},
   "source": [
    "### 2.1 Load Movies Data"
   ]
  },
  {
   "cell_type": "code",
   "execution_count": 5,
   "metadata": {},
   "outputs": [
    {
     "data": {
      "text/html": [
       "<div>\n",
       "<style scoped>\n",
       "    .dataframe tbody tr th:only-of-type {\n",
       "        vertical-align: middle;\n",
       "    }\n",
       "\n",
       "    .dataframe tbody tr th {\n",
       "        vertical-align: top;\n",
       "    }\n",
       "\n",
       "    .dataframe thead th {\n",
       "        text-align: right;\n",
       "    }\n",
       "</style>\n",
       "<table border=\"1\" class=\"dataframe\">\n",
       "  <thead>\n",
       "    <tr style=\"text-align: right;\">\n",
       "      <th></th>\n",
       "      <th>movieId</th>\n",
       "      <th>title</th>\n",
       "      <th>genres</th>\n",
       "    </tr>\n",
       "  </thead>\n",
       "  <tbody>\n",
       "    <tr>\n",
       "      <th>4794</th>\n",
       "      <td>7142</td>\n",
       "      <td>Honey (2003)</td>\n",
       "      <td>Drama|Romance</td>\n",
       "    </tr>\n",
       "    <tr>\n",
       "      <th>8285</th>\n",
       "      <td>105844</td>\n",
       "      <td>12 Years a Slave (2013)</td>\n",
       "      <td>Drama</td>\n",
       "    </tr>\n",
       "    <tr>\n",
       "      <th>9154</th>\n",
       "      <td>147662</td>\n",
       "      <td>Return of the One-Armed Swordsman (1969)</td>\n",
       "      <td>Action|Adventure</td>\n",
       "    </tr>\n",
       "    <tr>\n",
       "      <th>4090</th>\n",
       "      <td>5847</td>\n",
       "      <td>Ragtime (1981)</td>\n",
       "      <td>Drama</td>\n",
       "    </tr>\n",
       "    <tr>\n",
       "      <th>6898</th>\n",
       "      <td>63540</td>\n",
       "      <td>Beverly Hills Chihuahua (2008)</td>\n",
       "      <td>Adventure|Children|Comedy</td>\n",
       "    </tr>\n",
       "  </tbody>\n",
       "</table>\n",
       "</div>"
      ],
      "text/plain": [
       "      movieId                                     title  \\\n",
       "4794     7142                              Honey (2003)   \n",
       "8285   105844                   12 Years a Slave (2013)   \n",
       "9154   147662  Return of the One-Armed Swordsman (1969)   \n",
       "4090     5847                            Ragtime (1981)   \n",
       "6898    63540            Beverly Hills Chihuahua (2008)   \n",
       "\n",
       "                         genres  \n",
       "4794              Drama|Romance  \n",
       "8285                      Drama  \n",
       "9154           Action|Adventure  \n",
       "4090                      Drama  \n",
       "6898  Adventure|Children|Comedy  "
      ]
     },
     "execution_count": 5,
     "metadata": {},
     "output_type": "execute_result"
    }
   ],
   "source": [
    "movies.sample(5)"
   ]
  },
  {
   "cell_type": "code",
   "execution_count": 6,
   "metadata": {},
   "outputs": [
    {
     "name": "stdout",
     "output_type": "stream",
     "text": [
      "<class 'pandas.core.frame.DataFrame'>\n",
      "RangeIndex: 9742 entries, 0 to 9741\n",
      "Data columns (total 3 columns):\n",
      " #   Column   Non-Null Count  Dtype \n",
      "---  ------   --------------  ----- \n",
      " 0   movieId  9742 non-null   int64 \n",
      " 1   title    9742 non-null   object\n",
      " 2   genres   9742 non-null   object\n",
      "dtypes: int64(1), object(2)\n",
      "memory usage: 228.5+ KB\n"
     ]
    },
    {
     "data": {
      "text/plain": [
       "((9742, 3), None, 9742)"
      ]
     },
     "execution_count": 6,
     "metadata": {},
     "output_type": "execute_result"
    }
   ],
   "source": [
    "movies.shape, movies.info(), len(movies['movieId'].unique().tolist())"
   ]
  },
  {
   "cell_type": "markdown",
   "metadata": {},
   "source": [
    "### 2.2 Load Ratings Data"
   ]
  },
  {
   "cell_type": "code",
   "execution_count": 7,
   "metadata": {},
   "outputs": [
    {
     "data": {
      "text/html": [
       "<div>\n",
       "<style scoped>\n",
       "    .dataframe tbody tr th:only-of-type {\n",
       "        vertical-align: middle;\n",
       "    }\n",
       "\n",
       "    .dataframe tbody tr th {\n",
       "        vertical-align: top;\n",
       "    }\n",
       "\n",
       "    .dataframe thead th {\n",
       "        text-align: right;\n",
       "    }\n",
       "</style>\n",
       "<table border=\"1\" class=\"dataframe\">\n",
       "  <thead>\n",
       "    <tr style=\"text-align: right;\">\n",
       "      <th></th>\n",
       "      <th>userId</th>\n",
       "      <th>movieId</th>\n",
       "      <th>rating</th>\n",
       "      <th>timestamp</th>\n",
       "    </tr>\n",
       "  </thead>\n",
       "  <tbody>\n",
       "    <tr>\n",
       "      <th>18992</th>\n",
       "      <td>122</td>\n",
       "      <td>33004</td>\n",
       "      <td>4.5</td>\n",
       "      <td>1461561774</td>\n",
       "    </tr>\n",
       "    <tr>\n",
       "      <th>25230</th>\n",
       "      <td>177</td>\n",
       "      <td>3098</td>\n",
       "      <td>4.0</td>\n",
       "      <td>1435535698</td>\n",
       "    </tr>\n",
       "    <tr>\n",
       "      <th>21461</th>\n",
       "      <td>140</td>\n",
       "      <td>4326</td>\n",
       "      <td>3.5</td>\n",
       "      <td>1055092309</td>\n",
       "    </tr>\n",
       "    <tr>\n",
       "      <th>62255</th>\n",
       "      <td>413</td>\n",
       "      <td>2329</td>\n",
       "      <td>5.0</td>\n",
       "      <td>1484439570</td>\n",
       "    </tr>\n",
       "    <tr>\n",
       "      <th>58045</th>\n",
       "      <td>380</td>\n",
       "      <td>147376</td>\n",
       "      <td>5.0</td>\n",
       "      <td>1493421859</td>\n",
       "    </tr>\n",
       "  </tbody>\n",
       "</table>\n",
       "</div>"
      ],
      "text/plain": [
       "       userId  movieId  rating   timestamp\n",
       "18992     122    33004     4.5  1461561774\n",
       "25230     177     3098     4.0  1435535698\n",
       "21461     140     4326     3.5  1055092309\n",
       "62255     413     2329     5.0  1484439570\n",
       "58045     380   147376     5.0  1493421859"
      ]
     },
     "execution_count": 7,
     "metadata": {},
     "output_type": "execute_result"
    }
   ],
   "source": [
    "ratings.sample(5)"
   ]
  },
  {
   "cell_type": "code",
   "execution_count": 8,
   "metadata": {
    "scrolled": true
   },
   "outputs": [
    {
     "name": "stdout",
     "output_type": "stream",
     "text": [
      "<class 'pandas.core.frame.DataFrame'>\n",
      "RangeIndex: 100836 entries, 0 to 100835\n",
      "Data columns (total 4 columns):\n",
      " #   Column     Non-Null Count   Dtype  \n",
      "---  ------     --------------   -----  \n",
      " 0   userId     100836 non-null  int64  \n",
      " 1   movieId    100836 non-null  int64  \n",
      " 2   rating     100836 non-null  float64\n",
      " 3   timestamp  100836 non-null  int64  \n",
      "dtypes: float64(1), int64(3)\n",
      "memory usage: 3.1 MB\n"
     ]
    },
    {
     "data": {
      "text/plain": [
       "((100836, 4), '\\n', None, '\\n', 9724, '\\n', 610)"
      ]
     },
     "execution_count": 8,
     "metadata": {},
     "output_type": "execute_result"
    }
   ],
   "source": [
    "ratings.shape, \"\\n\", ratings.info(), \"\\n\", len(ratings['movieId'].unique().tolist()), \"\\n\", len(ratings['userId'].unique().tolist())\n",
    "# ratings.describe()"
   ]
  },
  {
   "cell_type": "markdown",
   "metadata": {},
   "source": [
    "### 2.3 Load Tags Data"
   ]
  },
  {
   "cell_type": "code",
   "execution_count": 9,
   "metadata": {
    "scrolled": true
   },
   "outputs": [
    {
     "data": {
      "text/html": [
       "<div>\n",
       "<style scoped>\n",
       "    .dataframe tbody tr th:only-of-type {\n",
       "        vertical-align: middle;\n",
       "    }\n",
       "\n",
       "    .dataframe tbody tr th {\n",
       "        vertical-align: top;\n",
       "    }\n",
       "\n",
       "    .dataframe thead th {\n",
       "        text-align: right;\n",
       "    }\n",
       "</style>\n",
       "<table border=\"1\" class=\"dataframe\">\n",
       "  <thead>\n",
       "    <tr style=\"text-align: right;\">\n",
       "      <th></th>\n",
       "      <th>userId</th>\n",
       "      <th>movieId</th>\n",
       "      <th>tag</th>\n",
       "      <th>timestamp</th>\n",
       "    </tr>\n",
       "  </thead>\n",
       "  <tbody>\n",
       "    <tr>\n",
       "      <th>115</th>\n",
       "      <td>62</td>\n",
       "      <td>8641</td>\n",
       "      <td>Will Ferrell</td>\n",
       "      <td>1526249135</td>\n",
       "    </tr>\n",
       "    <tr>\n",
       "      <th>1068</th>\n",
       "      <td>474</td>\n",
       "      <td>280</td>\n",
       "      <td>prison</td>\n",
       "      <td>1137375585</td>\n",
       "    </tr>\n",
       "    <tr>\n",
       "      <th>76</th>\n",
       "      <td>62</td>\n",
       "      <td>3578</td>\n",
       "      <td>imdb top 250</td>\n",
       "      <td>1528152498</td>\n",
       "    </tr>\n",
       "    <tr>\n",
       "      <th>2415</th>\n",
       "      <td>474</td>\n",
       "      <td>27790</td>\n",
       "      <td>saints</td>\n",
       "      <td>1138040326</td>\n",
       "    </tr>\n",
       "    <tr>\n",
       "      <th>1612</th>\n",
       "      <td>474</td>\n",
       "      <td>2357</td>\n",
       "      <td>South America</td>\n",
       "      <td>1137205389</td>\n",
       "    </tr>\n",
       "  </tbody>\n",
       "</table>\n",
       "</div>"
      ],
      "text/plain": [
       "      userId  movieId            tag   timestamp\n",
       "115       62     8641   Will Ferrell  1526249135\n",
       "1068     474      280         prison  1137375585\n",
       "76        62     3578   imdb top 250  1528152498\n",
       "2415     474    27790         saints  1138040326\n",
       "1612     474     2357  South America  1137205389"
      ]
     },
     "execution_count": 9,
     "metadata": {},
     "output_type": "execute_result"
    }
   ],
   "source": [
    "tags.sample(5)"
   ]
  },
  {
   "cell_type": "code",
   "execution_count": 10,
   "metadata": {},
   "outputs": [
    {
     "name": "stdout",
     "output_type": "stream",
     "text": [
      "<class 'pandas.core.frame.DataFrame'>\n",
      "RangeIndex: 3683 entries, 0 to 3682\n",
      "Data columns (total 4 columns):\n",
      " #   Column     Non-Null Count  Dtype \n",
      "---  ------     --------------  ----- \n",
      " 0   userId     3683 non-null   int64 \n",
      " 1   movieId    3683 non-null   int64 \n",
      " 2   tag        3683 non-null   object\n",
      " 3   timestamp  3683 non-null   int64 \n",
      "dtypes: int64(3), object(1)\n",
      "memory usage: 115.2+ KB\n"
     ]
    },
    {
     "data": {
      "text/plain": [
       "((3683, 4), '\\n', None, 1589)"
      ]
     },
     "execution_count": 10,
     "metadata": {},
     "output_type": "execute_result"
    }
   ],
   "source": [
    "tags.shape, \"\\n\", tags.info(), len(tags['tag'].unique().tolist())"
   ]
  },
  {
   "cell_type": "markdown",
   "metadata": {},
   "source": [
    "## 3.Cleaning of data"
   ]
  },
  {
   "cell_type": "code",
   "execution_count": 11,
   "metadata": {},
   "outputs": [
    {
     "data": {
      "text/plain": [
       "(movieId    False\n",
       " title      False\n",
       " genres     False\n",
       " dtype: bool,\n",
       " ' ',\n",
       " userId       False\n",
       " movieId      False\n",
       " rating       False\n",
       " timestamp    False\n",
       " dtype: bool,\n",
       " ' ',\n",
       " userId       False\n",
       " movieId      False\n",
       " tag          False\n",
       " timestamp    False\n",
       " dtype: bool)"
      ]
     },
     "execution_count": 11,
     "metadata": {},
     "output_type": "execute_result"
    }
   ],
   "source": [
    "movies.isnull().any(), \" \", ratings.isnull().any(), \" \", tags.isnull().any()\n",
    "\n",
    "# # lets drop null rows\n",
    "# tags=tags.dropna()"
   ]
  },
  {
   "cell_type": "markdown",
   "metadata": {},
   "source": [
    "## 4.Data Analysis"
   ]
  },
  {
   "cell_type": "markdown",
   "metadata": {},
   "source": [
    "### 4.1 Make dates more readable"
   ]
  },
  {
   "cell_type": "code",
   "execution_count": 12,
   "metadata": {},
   "outputs": [],
   "source": [
    "# https://stackoverflow.com/a/62968313/2049763\n",
    "def timestamp_to_date_converter(t):\n",
    "    # https://realpython.com/python-time-module/\n",
    "    return datetime.datetime.fromtimestamp(t).strftime(\"%A, %B %d, %Y %I:%M:%S\")"
   ]
  },
  {
   "cell_type": "code",
   "execution_count": 13,
   "metadata": {},
   "outputs": [],
   "source": [
    "ratings['date'] = ratings['timestamp'].apply(timestamp_to_date_converter)\n",
    "tags['date']    = tags['timestamp'].apply(timestamp_to_date_converter)"
   ]
  },
  {
   "cell_type": "code",
   "execution_count": 14,
   "metadata": {},
   "outputs": [
    {
     "data": {
      "text/html": [
       "<div>\n",
       "<style scoped>\n",
       "    .dataframe tbody tr th:only-of-type {\n",
       "        vertical-align: middle;\n",
       "    }\n",
       "\n",
       "    .dataframe tbody tr th {\n",
       "        vertical-align: top;\n",
       "    }\n",
       "\n",
       "    .dataframe thead th {\n",
       "        text-align: right;\n",
       "    }\n",
       "</style>\n",
       "<table border=\"1\" class=\"dataframe\">\n",
       "  <thead>\n",
       "    <tr style=\"text-align: right;\">\n",
       "      <th></th>\n",
       "      <th>userId</th>\n",
       "      <th>movieId</th>\n",
       "      <th>rating</th>\n",
       "      <th>timestamp</th>\n",
       "      <th>date</th>\n",
       "    </tr>\n",
       "  </thead>\n",
       "  <tbody>\n",
       "    <tr>\n",
       "      <th>81475</th>\n",
       "      <td>514</td>\n",
       "      <td>187031</td>\n",
       "      <td>2.5</td>\n",
       "      <td>1537674927</td>\n",
       "      <td>Saturday, September 22, 2018 10:55:27</td>\n",
       "    </tr>\n",
       "    <tr>\n",
       "      <th>81477</th>\n",
       "      <td>514</td>\n",
       "      <td>187595</td>\n",
       "      <td>3.0</td>\n",
       "      <td>1537674946</td>\n",
       "      <td>Saturday, September 22, 2018 10:55:46</td>\n",
       "    </tr>\n",
       "    <tr>\n",
       "      <th>81336</th>\n",
       "      <td>514</td>\n",
       "      <td>5247</td>\n",
       "      <td>2.5</td>\n",
       "      <td>1537757040</td>\n",
       "      <td>Sunday, September 23, 2018 09:44:00</td>\n",
       "    </tr>\n",
       "    <tr>\n",
       "      <th>81335</th>\n",
       "      <td>514</td>\n",
       "      <td>5246</td>\n",
       "      <td>1.5</td>\n",
       "      <td>1537757059</td>\n",
       "      <td>Sunday, September 23, 2018 09:44:19</td>\n",
       "    </tr>\n",
       "    <tr>\n",
       "      <th>81092</th>\n",
       "      <td>514</td>\n",
       "      <td>162</td>\n",
       "      <td>4.0</td>\n",
       "      <td>1537799250</td>\n",
       "      <td>Monday, September 24, 2018 09:27:30</td>\n",
       "    </tr>\n",
       "  </tbody>\n",
       "</table>\n",
       "</div>"
      ],
      "text/plain": [
       "       userId  movieId  rating   timestamp  \\\n",
       "81475     514   187031     2.5  1537674927   \n",
       "81477     514   187595     3.0  1537674946   \n",
       "81336     514     5247     2.5  1537757040   \n",
       "81335     514     5246     1.5  1537757059   \n",
       "81092     514      162     4.0  1537799250   \n",
       "\n",
       "                                        date  \n",
       "81475  Saturday, September 22, 2018 10:55:27  \n",
       "81477  Saturday, September 22, 2018 10:55:46  \n",
       "81336    Sunday, September 23, 2018 09:44:00  \n",
       "81335    Sunday, September 23, 2018 09:44:19  \n",
       "81092    Monday, September 24, 2018 09:27:30  "
      ]
     },
     "execution_count": 14,
     "metadata": {},
     "output_type": "execute_result"
    }
   ],
   "source": [
    "ratings.sort_values(by=['timestamp'], ascending=True).tail(5)"
   ]
  },
  {
   "cell_type": "code",
   "execution_count": 15,
   "metadata": {},
   "outputs": [],
   "source": [
    "s = \"01/01/2018\"\n",
    "t = time.mktime(datetime.datetime.strptime(s, \"%m/%d/%Y\").timetuple())"
   ]
  },
  {
   "cell_type": "code",
   "execution_count": 16,
   "metadata": {},
   "outputs": [
    {
     "data": {
      "text/html": [
       "<div>\n",
       "<style scoped>\n",
       "    .dataframe tbody tr th:only-of-type {\n",
       "        vertical-align: middle;\n",
       "    }\n",
       "\n",
       "    .dataframe tbody tr th {\n",
       "        vertical-align: top;\n",
       "    }\n",
       "\n",
       "    .dataframe thead th {\n",
       "        text-align: right;\n",
       "    }\n",
       "</style>\n",
       "<table border=\"1\" class=\"dataframe\">\n",
       "  <thead>\n",
       "    <tr style=\"text-align: right;\">\n",
       "      <th></th>\n",
       "      <th>userId</th>\n",
       "      <th>movieId</th>\n",
       "      <th>rating</th>\n",
       "      <th>timestamp</th>\n",
       "      <th>date</th>\n",
       "    </tr>\n",
       "  </thead>\n",
       "  <tbody>\n",
       "    <tr>\n",
       "      <th>7181</th>\n",
       "      <td>50</td>\n",
       "      <td>2420</td>\n",
       "      <td>2.5</td>\n",
       "      <td>1514842717</td>\n",
       "      <td>Monday, January 01, 2018 03:38:37</td>\n",
       "    </tr>\n",
       "    <tr>\n",
       "      <th>7357</th>\n",
       "      <td>50</td>\n",
       "      <td>117529</td>\n",
       "      <td>1.5</td>\n",
       "      <td>1514842744</td>\n",
       "      <td>Monday, January 01, 2018 03:39:04</td>\n",
       "    </tr>\n",
       "    <tr>\n",
       "      <th>7360</th>\n",
       "      <td>50</td>\n",
       "      <td>122904</td>\n",
       "      <td>1.5</td>\n",
       "      <td>1514891080</td>\n",
       "      <td>Tuesday, January 02, 2018 05:04:40</td>\n",
       "    </tr>\n",
       "    <tr>\n",
       "      <th>7299</th>\n",
       "      <td>50</td>\n",
       "      <td>72998</td>\n",
       "      <td>2.0</td>\n",
       "      <td>1514891142</td>\n",
       "      <td>Tuesday, January 02, 2018 05:05:42</td>\n",
       "    </tr>\n",
       "    <tr>\n",
       "      <th>7291</th>\n",
       "      <td>50</td>\n",
       "      <td>63312</td>\n",
       "      <td>2.0</td>\n",
       "      <td>1514891165</td>\n",
       "      <td>Tuesday, January 02, 2018 05:06:05</td>\n",
       "    </tr>\n",
       "  </tbody>\n",
       "</table>\n",
       "</div>"
      ],
      "text/plain": [
       "      userId  movieId  rating   timestamp                                date\n",
       "7181      50     2420     2.5  1514842717   Monday, January 01, 2018 03:38:37\n",
       "7357      50   117529     1.5  1514842744   Monday, January 01, 2018 03:39:04\n",
       "7360      50   122904     1.5  1514891080  Tuesday, January 02, 2018 05:04:40\n",
       "7299      50    72998     2.0  1514891142  Tuesday, January 02, 2018 05:05:42\n",
       "7291      50    63312     2.0  1514891165  Tuesday, January 02, 2018 05:06:05"
      ]
     },
     "execution_count": 16,
     "metadata": {},
     "output_type": "execute_result"
    }
   ],
   "source": [
    "ratings.loc[ratings.timestamp>t].sort_values(by=['timestamp'], ascending=True).head(5)"
   ]
  },
  {
   "cell_type": "code",
   "execution_count": 17,
   "metadata": {
    "scrolled": true
   },
   "outputs": [
    {
     "data": {
      "text/plain": [
       "(6413, 5)"
      ]
     },
     "execution_count": 17,
     "metadata": {},
     "output_type": "execute_result"
    }
   ],
   "source": [
    "ratings.loc[ratings.timestamp>t].sort_values(by=['timestamp'], ascending=True).shape"
   ]
  },
  {
   "cell_type": "markdown",
   "metadata": {},
   "source": [
    "### 4.2 Reading Movie Release Year"
   ]
  },
  {
   "cell_type": "code",
   "execution_count": 18,
   "metadata": {},
   "outputs": [],
   "source": [
    "# https://stackoverflow.com/a/8569258\n",
    "def title_to_release_year(s):\n",
    "    m = re.findall(r\"\\(([0-9]+)\\)\", s)\n",
    "    \n",
    "    # https://www.guru99.com/python-regular-expressions-complete-tutorial.html\n",
    "    if m is None or len(m) <= 0:\n",
    "        return None        \n",
    "    return m[-1]"
   ]
  },
  {
   "cell_type": "code",
   "execution_count": 19,
   "metadata": {},
   "outputs": [],
   "source": [
    "movies['year']  = movies['title'].apply(title_to_release_year)"
   ]
  },
  {
   "cell_type": "code",
   "execution_count": 20,
   "metadata": {
    "scrolled": true
   },
   "outputs": [
    {
     "data": {
      "text/html": [
       "<div>\n",
       "<style scoped>\n",
       "    .dataframe tbody tr th:only-of-type {\n",
       "        vertical-align: middle;\n",
       "    }\n",
       "\n",
       "    .dataframe tbody tr th {\n",
       "        vertical-align: top;\n",
       "    }\n",
       "\n",
       "    .dataframe thead th {\n",
       "        text-align: right;\n",
       "    }\n",
       "</style>\n",
       "<table border=\"1\" class=\"dataframe\">\n",
       "  <thead>\n",
       "    <tr style=\"text-align: right;\">\n",
       "      <th></th>\n",
       "      <th>movieId</th>\n",
       "      <th>title</th>\n",
       "      <th>genres</th>\n",
       "      <th>year</th>\n",
       "    </tr>\n",
       "  </thead>\n",
       "  <tbody>\n",
       "    <tr>\n",
       "      <th>4661</th>\n",
       "      <td>6963</td>\n",
       "      <td>Devil's Playground (2002)</td>\n",
       "      <td>Documentary</td>\n",
       "      <td>2002</td>\n",
       "    </tr>\n",
       "    <tr>\n",
       "      <th>4843</th>\n",
       "      <td>7235</td>\n",
       "      <td>Ichi the Killer (Koroshiya 1) (2001)</td>\n",
       "      <td>Action|Comedy|Crime|Drama|Horror|Thriller</td>\n",
       "      <td>2001</td>\n",
       "    </tr>\n",
       "    <tr>\n",
       "      <th>4279</th>\n",
       "      <td>6246</td>\n",
       "      <td>Talent for the Game (1991)</td>\n",
       "      <td>Drama</td>\n",
       "      <td>1991</td>\n",
       "    </tr>\n",
       "    <tr>\n",
       "      <th>6781</th>\n",
       "      <td>60293</td>\n",
       "      <td>Wackness, The (2008)</td>\n",
       "      <td>Comedy|Drama|Romance</td>\n",
       "      <td>2008</td>\n",
       "    </tr>\n",
       "    <tr>\n",
       "      <th>6602</th>\n",
       "      <td>55553</td>\n",
       "      <td>Black Sheep (2006)</td>\n",
       "      <td>Comedy|Horror</td>\n",
       "      <td>2006</td>\n",
       "    </tr>\n",
       "  </tbody>\n",
       "</table>\n",
       "</div>"
      ],
      "text/plain": [
       "      movieId                                 title  \\\n",
       "4661     6963             Devil's Playground (2002)   \n",
       "4843     7235  Ichi the Killer (Koroshiya 1) (2001)   \n",
       "4279     6246            Talent for the Game (1991)   \n",
       "6781    60293                  Wackness, The (2008)   \n",
       "6602    55553                    Black Sheep (2006)   \n",
       "\n",
       "                                         genres  year  \n",
       "4661                                Documentary  2002  \n",
       "4843  Action|Comedy|Crime|Drama|Horror|Thriller  2001  \n",
       "4279                                      Drama  1991  \n",
       "6781                       Comedy|Drama|Romance  2008  \n",
       "6602                              Comedy|Horror  2006  "
      ]
     },
     "execution_count": 20,
     "metadata": {},
     "output_type": "execute_result"
    }
   ],
   "source": [
    "movies.sample(5)"
   ]
  },
  {
   "cell_type": "code",
   "execution_count": 21,
   "metadata": {},
   "outputs": [
    {
     "data": {
      "text/plain": [
       "movieId    False\n",
       "title      False\n",
       "genres     False\n",
       "year        True\n",
       "dtype: bool"
      ]
     },
     "execution_count": 21,
     "metadata": {},
     "output_type": "execute_result"
    }
   ],
   "source": [
    "movies.isnull().any()"
   ]
  },
  {
   "cell_type": "code",
   "execution_count": 22,
   "metadata": {
    "scrolled": true
   },
   "outputs": [
    {
     "data": {
      "text/html": [
       "<div>\n",
       "<style scoped>\n",
       "    .dataframe tbody tr th:only-of-type {\n",
       "        vertical-align: middle;\n",
       "    }\n",
       "\n",
       "    .dataframe tbody tr th {\n",
       "        vertical-align: top;\n",
       "    }\n",
       "\n",
       "    .dataframe thead th {\n",
       "        text-align: right;\n",
       "    }\n",
       "</style>\n",
       "<table border=\"1\" class=\"dataframe\">\n",
       "  <thead>\n",
       "    <tr style=\"text-align: right;\">\n",
       "      <th></th>\n",
       "      <th>movieId</th>\n",
       "      <th>title</th>\n",
       "      <th>genres</th>\n",
       "      <th>year</th>\n",
       "    </tr>\n",
       "  </thead>\n",
       "  <tbody>\n",
       "    <tr>\n",
       "      <th>6059</th>\n",
       "      <td>40697</td>\n",
       "      <td>Babylon 5</td>\n",
       "      <td>Sci-Fi</td>\n",
       "      <td>None</td>\n",
       "    </tr>\n",
       "    <tr>\n",
       "      <th>9031</th>\n",
       "      <td>140956</td>\n",
       "      <td>Ready Player One</td>\n",
       "      <td>Action|Sci-Fi|Thriller</td>\n",
       "      <td>None</td>\n",
       "    </tr>\n",
       "    <tr>\n",
       "      <th>9091</th>\n",
       "      <td>143410</td>\n",
       "      <td>Hyena Road</td>\n",
       "      <td>(no genres listed)</td>\n",
       "      <td>None</td>\n",
       "    </tr>\n",
       "    <tr>\n",
       "      <th>9138</th>\n",
       "      <td>147250</td>\n",
       "      <td>The Adventures of Sherlock Holmes and Doctor W...</td>\n",
       "      <td>(no genres listed)</td>\n",
       "      <td>None</td>\n",
       "    </tr>\n",
       "    <tr>\n",
       "      <th>9179</th>\n",
       "      <td>149334</td>\n",
       "      <td>Nocturnal Animals</td>\n",
       "      <td>Drama|Thriller</td>\n",
       "      <td>None</td>\n",
       "    </tr>\n",
       "    <tr>\n",
       "      <th>9259</th>\n",
       "      <td>156605</td>\n",
       "      <td>Paterson</td>\n",
       "      <td>(no genres listed)</td>\n",
       "      <td>None</td>\n",
       "    </tr>\n",
       "    <tr>\n",
       "      <th>9367</th>\n",
       "      <td>162414</td>\n",
       "      <td>Moonlight</td>\n",
       "      <td>Drama</td>\n",
       "      <td>None</td>\n",
       "    </tr>\n",
       "    <tr>\n",
       "      <th>9448</th>\n",
       "      <td>167570</td>\n",
       "      <td>The OA</td>\n",
       "      <td>(no genres listed)</td>\n",
       "      <td>None</td>\n",
       "    </tr>\n",
       "    <tr>\n",
       "      <th>9514</th>\n",
       "      <td>171495</td>\n",
       "      <td>Cosmos</td>\n",
       "      <td>(no genres listed)</td>\n",
       "      <td>None</td>\n",
       "    </tr>\n",
       "    <tr>\n",
       "      <th>9515</th>\n",
       "      <td>171631</td>\n",
       "      <td>Maria Bamford: Old Baby</td>\n",
       "      <td>(no genres listed)</td>\n",
       "      <td>None</td>\n",
       "    </tr>\n",
       "    <tr>\n",
       "      <th>9518</th>\n",
       "      <td>171749</td>\n",
       "      <td>Death Note: Desu nôto (2006–2007)</td>\n",
       "      <td>(no genres listed)</td>\n",
       "      <td>None</td>\n",
       "    </tr>\n",
       "    <tr>\n",
       "      <th>9525</th>\n",
       "      <td>171891</td>\n",
       "      <td>Generation Iron 2</td>\n",
       "      <td>(no genres listed)</td>\n",
       "      <td>None</td>\n",
       "    </tr>\n",
       "    <tr>\n",
       "      <th>9611</th>\n",
       "      <td>176601</td>\n",
       "      <td>Black Mirror</td>\n",
       "      <td>(no genres listed)</td>\n",
       "      <td>None</td>\n",
       "    </tr>\n",
       "  </tbody>\n",
       "</table>\n",
       "</div>"
      ],
      "text/plain": [
       "      movieId                                              title  \\\n",
       "6059    40697                                          Babylon 5   \n",
       "9031   140956                                   Ready Player One   \n",
       "9091   143410                                         Hyena Road   \n",
       "9138   147250  The Adventures of Sherlock Holmes and Doctor W...   \n",
       "9179   149334                                  Nocturnal Animals   \n",
       "9259   156605                                           Paterson   \n",
       "9367   162414                                          Moonlight   \n",
       "9448   167570                                             The OA   \n",
       "9514   171495                                             Cosmos   \n",
       "9515   171631                            Maria Bamford: Old Baby   \n",
       "9518   171749                  Death Note: Desu nôto (2006–2007)   \n",
       "9525   171891                                  Generation Iron 2   \n",
       "9611   176601                                       Black Mirror   \n",
       "\n",
       "                      genres  year  \n",
       "6059                  Sci-Fi  None  \n",
       "9031  Action|Sci-Fi|Thriller  None  \n",
       "9091      (no genres listed)  None  \n",
       "9138      (no genres listed)  None  \n",
       "9179          Drama|Thriller  None  \n",
       "9259      (no genres listed)  None  \n",
       "9367                   Drama  None  \n",
       "9448      (no genres listed)  None  \n",
       "9514      (no genres listed)  None  \n",
       "9515      (no genres listed)  None  \n",
       "9518      (no genres listed)  None  \n",
       "9525      (no genres listed)  None  \n",
       "9611      (no genres listed)  None  "
      ]
     },
     "execution_count": 22,
     "metadata": {},
     "output_type": "execute_result"
    }
   ],
   "source": [
    "# https://datatofish.com/rows-with-nan-pandas-dataframe/\n",
    "movies[movies.isnull().any(axis=1)]"
   ]
  },
  {
   "cell_type": "code",
   "execution_count": 23,
   "metadata": {},
   "outputs": [],
   "source": [
    "movies = movies.dropna()"
   ]
  },
  {
   "cell_type": "markdown",
   "metadata": {},
   "source": [
    "### 4.3 Preparing ratings data"
   ]
  },
  {
   "cell_type": "code",
   "execution_count": 24,
   "metadata": {
    "scrolled": true
   },
   "outputs": [
    {
     "name": "stdout",
     "output_type": "stream",
     "text": [
      "<class 'pandas.core.frame.DataFrame'>\n",
      "RangeIndex: 100836 entries, 0 to 100835\n",
      "Data columns (total 5 columns):\n",
      " #   Column     Non-Null Count   Dtype  \n",
      "---  ------     --------------   -----  \n",
      " 0   userId     100836 non-null  int16  \n",
      " 1   movieId    100836 non-null  int16  \n",
      " 2   rating     100836 non-null  float64\n",
      " 3   timestamp  100836 non-null  int64  \n",
      " 4   date       100836 non-null  object \n",
      "dtypes: float64(1), int16(2), int64(1), object(1)\n",
      "memory usage: 2.7+ MB\n"
     ]
    },
    {
     "data": {
      "text/plain": [
       "(None,\n",
       " 575      20\n",
       " 52       20\n",
       " 430      20\n",
       " 193      20\n",
       " 405      20\n",
       "        ... \n",
       " 273    1346\n",
       " 447    1864\n",
       " 473    2108\n",
       " 598    2478\n",
       " 413    2698\n",
       " Name: userId, Length: 610, dtype: int64)"
      ]
     },
     "execution_count": 24,
     "metadata": {},
     "output_type": "execute_result"
    }
   ],
   "source": [
    "ratings.userId = ratings.userId.astype('category').cat.codes.values\n",
    "ratings.movieId = ratings.movieId.astype('category').cat.codes.values\n",
    "\n",
    "ratings.info(), ratings['userId'].value_counts(ascending=True)"
   ]
  },
  {
   "cell_type": "markdown",
   "metadata": {},
   "source": [
    "## 5. Basic Recomendation \n",
    "\n",
    "https://www.kaggle.com/rajmehra03/cf-based-recsys-by-low-rank-matrix-factorization"
   ]
  },
  {
   "cell_type": "code",
   "execution_count": 25,
   "metadata": {},
   "outputs": [
    {
     "data": {
      "text/plain": [
       "((67160, 8),\n",
       " '# ============== #',\n",
       " userId       False\n",
       " movieId      False\n",
       " rating       False\n",
       " timestamp    False\n",
       " date         False\n",
       " dtype: bool)"
      ]
     },
     "execution_count": 25,
     "metadata": {},
     "output_type": "execute_result"
    }
   ],
   "source": [
    "# https://stackoverflow.com/a/39881230\n",
    "# ratings =  ratings.loc[ratings.movieId.isin(movies.movieId)] \n",
    "\n",
    "movies_ratings = ratings.merge(movies, on = 'movieId', how = 'inner')\n",
    "movies_ratings.shape, '# ============== #', ratings.isnull().any()"
   ]
  },
  {
   "cell_type": "code",
   "execution_count": 26,
   "metadata": {},
   "outputs": [
    {
     "data": {
      "text/html": [
       "<div>\n",
       "<style scoped>\n",
       "    .dataframe tbody tr th:only-of-type {\n",
       "        vertical-align: middle;\n",
       "    }\n",
       "\n",
       "    .dataframe tbody tr th {\n",
       "        vertical-align: top;\n",
       "    }\n",
       "\n",
       "    .dataframe thead th {\n",
       "        text-align: right;\n",
       "    }\n",
       "</style>\n",
       "<table border=\"1\" class=\"dataframe\">\n",
       "  <thead>\n",
       "    <tr style=\"text-align: right;\">\n",
       "      <th></th>\n",
       "      <th>userId</th>\n",
       "      <th>movieId</th>\n",
       "      <th>rating</th>\n",
       "      <th>timestamp</th>\n",
       "      <th>date</th>\n",
       "      <th>title</th>\n",
       "      <th>genres</th>\n",
       "      <th>year</th>\n",
       "    </tr>\n",
       "  </thead>\n",
       "  <tbody>\n",
       "    <tr>\n",
       "      <th>40402</th>\n",
       "      <td>482</td>\n",
       "      <td>7065</td>\n",
       "      <td>5.0</td>\n",
       "      <td>1256431709</td>\n",
       "      <td>Saturday, October 24, 2009 07:48:29</td>\n",
       "      <td>Birth of a Nation, The (1915)</td>\n",
       "      <td>Drama|War</td>\n",
       "      <td>1915</td>\n",
       "    </tr>\n",
       "    <tr>\n",
       "      <th>40398</th>\n",
       "      <td>380</td>\n",
       "      <td>7065</td>\n",
       "      <td>3.5</td>\n",
       "      <td>1263398689</td>\n",
       "      <td>Wednesday, January 13, 2010 10:04:49</td>\n",
       "      <td>Birth of a Nation, The (1915)</td>\n",
       "      <td>Drama|War</td>\n",
       "      <td>1915</td>\n",
       "    </tr>\n",
       "    <tr>\n",
       "      <th>40401</th>\n",
       "      <td>476</td>\n",
       "      <td>7065</td>\n",
       "      <td>4.0</td>\n",
       "      <td>1268551277</td>\n",
       "      <td>Sunday, March 14, 2010 01:21:17</td>\n",
       "      <td>Birth of a Nation, The (1915)</td>\n",
       "      <td>Drama|War</td>\n",
       "      <td>1915</td>\n",
       "    </tr>\n",
       "    <tr>\n",
       "      <th>40399</th>\n",
       "      <td>413</td>\n",
       "      <td>7065</td>\n",
       "      <td>4.5</td>\n",
       "      <td>1273977081</td>\n",
       "      <td>Saturday, May 15, 2010 09:31:21</td>\n",
       "      <td>Birth of a Nation, The (1915)</td>\n",
       "      <td>Drama|War</td>\n",
       "      <td>1915</td>\n",
       "    </tr>\n",
       "    <tr>\n",
       "      <th>40394</th>\n",
       "      <td>273</td>\n",
       "      <td>7065</td>\n",
       "      <td>4.0</td>\n",
       "      <td>1285018440</td>\n",
       "      <td>Monday, September 20, 2010 04:34:00</td>\n",
       "      <td>Birth of a Nation, The (1915)</td>\n",
       "      <td>Drama|War</td>\n",
       "      <td>1915</td>\n",
       "    </tr>\n",
       "  </tbody>\n",
       "</table>\n",
       "</div>"
      ],
      "text/plain": [
       "       userId  movieId  rating   timestamp  \\\n",
       "40402     482     7065     5.0  1256431709   \n",
       "40398     380     7065     3.5  1263398689   \n",
       "40401     476     7065     4.0  1268551277   \n",
       "40399     413     7065     4.5  1273977081   \n",
       "40394     273     7065     4.0  1285018440   \n",
       "\n",
       "                                       date                          title  \\\n",
       "40402   Saturday, October 24, 2009 07:48:29  Birth of a Nation, The (1915)   \n",
       "40398  Wednesday, January 13, 2010 10:04:49  Birth of a Nation, The (1915)   \n",
       "40401       Sunday, March 14, 2010 01:21:17  Birth of a Nation, The (1915)   \n",
       "40399       Saturday, May 15, 2010 09:31:21  Birth of a Nation, The (1915)   \n",
       "40394   Monday, September 20, 2010 04:34:00  Birth of a Nation, The (1915)   \n",
       "\n",
       "          genres  year  \n",
       "40402  Drama|War  1915  \n",
       "40398  Drama|War  1915  \n",
       "40401  Drama|War  1915  \n",
       "40399  Drama|War  1915  \n",
       "40394  Drama|War  1915  "
      ]
     },
     "execution_count": 26,
     "metadata": {},
     "output_type": "execute_result"
    }
   ],
   "source": [
    "movies_ratings = movies_ratings.sort_values(['year', 'timestamp'], ascending=[True, True])\n",
    "movies_ratings.head(5)"
   ]
  },
  {
   "cell_type": "code",
   "execution_count": 27,
   "metadata": {},
   "outputs": [
    {
     "data": {
      "text/plain": [
       "(610, 5401)"
      ]
     },
     "execution_count": 27,
     "metadata": {},
     "output_type": "execute_result"
    }
   ],
   "source": [
    "nb_users  = movies_ratings['userId'].nunique()\n",
    "nb_movies = movies_ratings['movieId'].nunique()\n",
    "\n",
    "nb_users, nb_movies "
   ]
  },
  {
   "cell_type": "code",
   "execution_count": 28,
   "metadata": {
    "scrolled": true
   },
   "outputs": [
    {
     "data": {
      "text/html": [
       "<div>\n",
       "<style scoped>\n",
       "    .dataframe tbody tr th:only-of-type {\n",
       "        vertical-align: middle;\n",
       "    }\n",
       "\n",
       "    .dataframe tbody tr th {\n",
       "        vertical-align: top;\n",
       "    }\n",
       "\n",
       "    .dataframe thead th {\n",
       "        text-align: right;\n",
       "    }\n",
       "</style>\n",
       "<table border=\"1\" class=\"dataframe\">\n",
       "  <thead>\n",
       "    <tr style=\"text-align: right;\">\n",
       "      <th>movieId</th>\n",
       "      <th>1</th>\n",
       "      <th>2</th>\n",
       "      <th>3</th>\n",
       "      <th>4</th>\n",
       "      <th>5</th>\n",
       "      <th>6</th>\n",
       "      <th>7</th>\n",
       "      <th>8</th>\n",
       "      <th>9</th>\n",
       "      <th>10</th>\n",
       "      <th>...</th>\n",
       "      <th>8984</th>\n",
       "      <th>8985</th>\n",
       "      <th>8987</th>\n",
       "      <th>8989</th>\n",
       "      <th>8998</th>\n",
       "      <th>9004</th>\n",
       "      <th>9005</th>\n",
       "      <th>9008</th>\n",
       "      <th>9010</th>\n",
       "      <th>9018</th>\n",
       "    </tr>\n",
       "  </thead>\n",
       "  <tbody>\n",
       "    <tr>\n",
       "      <th>399</th>\n",
       "      <td>0.0</td>\n",
       "      <td>0.0</td>\n",
       "      <td>0.0</td>\n",
       "      <td>0.0</td>\n",
       "      <td>5.0</td>\n",
       "      <td>0.0</td>\n",
       "      <td>0.0</td>\n",
       "      <td>0.0</td>\n",
       "      <td>0.0</td>\n",
       "      <td>0.0</td>\n",
       "      <td>...</td>\n",
       "      <td>0.0</td>\n",
       "      <td>0.0</td>\n",
       "      <td>0.0</td>\n",
       "      <td>0.0</td>\n",
       "      <td>0.0</td>\n",
       "      <td>0.0</td>\n",
       "      <td>0.0</td>\n",
       "      <td>0.0</td>\n",
       "      <td>0.0</td>\n",
       "      <td>0.0</td>\n",
       "    </tr>\n",
       "    <tr>\n",
       "      <th>587</th>\n",
       "      <td>0.0</td>\n",
       "      <td>3.0</td>\n",
       "      <td>0.0</td>\n",
       "      <td>0.0</td>\n",
       "      <td>5.0</td>\n",
       "      <td>0.0</td>\n",
       "      <td>0.0</td>\n",
       "      <td>0.0</td>\n",
       "      <td>3.0</td>\n",
       "      <td>0.0</td>\n",
       "      <td>...</td>\n",
       "      <td>0.0</td>\n",
       "      <td>0.0</td>\n",
       "      <td>0.0</td>\n",
       "      <td>0.0</td>\n",
       "      <td>0.0</td>\n",
       "      <td>0.0</td>\n",
       "      <td>0.0</td>\n",
       "      <td>0.0</td>\n",
       "      <td>0.0</td>\n",
       "      <td>0.0</td>\n",
       "    </tr>\n",
       "    <tr>\n",
       "      <th>192</th>\n",
       "      <td>0.0</td>\n",
       "      <td>0.0</td>\n",
       "      <td>0.0</td>\n",
       "      <td>0.0</td>\n",
       "      <td>0.0</td>\n",
       "      <td>0.0</td>\n",
       "      <td>0.0</td>\n",
       "      <td>0.0</td>\n",
       "      <td>0.0</td>\n",
       "      <td>0.0</td>\n",
       "      <td>...</td>\n",
       "      <td>0.0</td>\n",
       "      <td>0.0</td>\n",
       "      <td>0.0</td>\n",
       "      <td>0.0</td>\n",
       "      <td>0.0</td>\n",
       "      <td>0.0</td>\n",
       "      <td>0.0</td>\n",
       "      <td>0.0</td>\n",
       "      <td>0.0</td>\n",
       "      <td>0.0</td>\n",
       "    </tr>\n",
       "    <tr>\n",
       "      <th>47</th>\n",
       "      <td>0.0</td>\n",
       "      <td>0.0</td>\n",
       "      <td>0.0</td>\n",
       "      <td>0.0</td>\n",
       "      <td>0.0</td>\n",
       "      <td>0.0</td>\n",
       "      <td>0.0</td>\n",
       "      <td>0.0</td>\n",
       "      <td>0.0</td>\n",
       "      <td>0.0</td>\n",
       "      <td>...</td>\n",
       "      <td>0.0</td>\n",
       "      <td>0.0</td>\n",
       "      <td>0.0</td>\n",
       "      <td>0.0</td>\n",
       "      <td>0.0</td>\n",
       "      <td>0.0</td>\n",
       "      <td>0.0</td>\n",
       "      <td>0.0</td>\n",
       "      <td>0.0</td>\n",
       "      <td>0.0</td>\n",
       "    </tr>\n",
       "    <tr>\n",
       "      <th>545</th>\n",
       "      <td>0.0</td>\n",
       "      <td>0.0</td>\n",
       "      <td>0.0</td>\n",
       "      <td>0.0</td>\n",
       "      <td>0.0</td>\n",
       "      <td>0.0</td>\n",
       "      <td>0.0</td>\n",
       "      <td>0.0</td>\n",
       "      <td>0.0</td>\n",
       "      <td>0.0</td>\n",
       "      <td>...</td>\n",
       "      <td>0.0</td>\n",
       "      <td>0.0</td>\n",
       "      <td>0.0</td>\n",
       "      <td>0.0</td>\n",
       "      <td>0.0</td>\n",
       "      <td>0.0</td>\n",
       "      <td>0.0</td>\n",
       "      <td>0.0</td>\n",
       "      <td>0.0</td>\n",
       "      <td>0.0</td>\n",
       "    </tr>\n",
       "  </tbody>\n",
       "</table>\n",
       "<p>5 rows × 5401 columns</p>\n",
       "</div>"
      ],
      "text/plain": [
       "movieId  1     2     3     4     5     6     7     8     9     10    ...  \\\n",
       "399       0.0   0.0   0.0   0.0   5.0   0.0   0.0   0.0   0.0   0.0  ...   \n",
       "587       0.0   3.0   0.0   0.0   5.0   0.0   0.0   0.0   3.0   0.0  ...   \n",
       "192       0.0   0.0   0.0   0.0   0.0   0.0   0.0   0.0   0.0   0.0  ...   \n",
       "47        0.0   0.0   0.0   0.0   0.0   0.0   0.0   0.0   0.0   0.0  ...   \n",
       "545       0.0   0.0   0.0   0.0   0.0   0.0   0.0   0.0   0.0   0.0  ...   \n",
       "\n",
       "movieId  8984  8985  8987  8989  8998  9004  9005  9008  9010  9018  \n",
       "399       0.0   0.0   0.0   0.0   0.0   0.0   0.0   0.0   0.0   0.0  \n",
       "587       0.0   0.0   0.0   0.0   0.0   0.0   0.0   0.0   0.0   0.0  \n",
       "192       0.0   0.0   0.0   0.0   0.0   0.0   0.0   0.0   0.0   0.0  \n",
       "47        0.0   0.0   0.0   0.0   0.0   0.0   0.0   0.0   0.0   0.0  \n",
       "545       0.0   0.0   0.0   0.0   0.0   0.0   0.0   0.0   0.0   0.0  \n",
       "\n",
       "[5 rows x 5401 columns]"
      ]
     },
     "execution_count": 28,
     "metadata": {},
     "output_type": "execute_result"
    }
   ],
   "source": [
    "ratings_matrix = movies_ratings.pivot_table(index=['userId'],columns=['movieId'],values='rating').reset_index(drop=True)\n",
    "ratings_matrix.fillna(0, inplace = True)\n",
    "\n",
    "ratings_matrix.sample(5)"
   ]
  },
  {
   "cell_type": "code",
   "execution_count": 29,
   "metadata": {},
   "outputs": [
    {
     "name": "stdout",
     "output_type": "stream",
     "text": [
      "(610, 5401)\n"
     ]
    }
   ],
   "source": [
    "data_matrix = np.array(ratings_matrix)\n",
    "print(data_matrix.shape)"
   ]
  },
  {
   "cell_type": "markdown",
   "metadata": {},
   "source": [
    "### 5.1 Useless"
   ]
  },
  {
   "cell_type": "code",
   "execution_count": 30,
   "metadata": {},
   "outputs": [],
   "source": [
    "from sklearn.model_selection import train_test_split\n",
    "\n",
    "from sklearn.mixture import GaussianMixture\n",
    "from scipy.special import logsumexp\n",
    "import itertools"
   ]
  },
  {
   "cell_type": "code",
   "execution_count": 31,
   "metadata": {},
   "outputs": [],
   "source": [
    "# split the data into train and test set\n",
    "train, test = train_test_split(data_matrix, test_size=0.2, random_state=42, shuffle=True)"
   ]
  },
  {
   "cell_type": "code",
   "execution_count": 32,
   "metadata": {
    "scrolled": true
   },
   "outputs": [
    {
     "data": {
      "text/plain": [
       "((488, 5401), (122, 5401))"
      ]
     },
     "execution_count": 32,
     "metadata": {},
     "output_type": "execute_result"
    }
   ],
   "source": [
    "train.shape, test.shape"
   ]
  },
  {
   "cell_type": "markdown",
   "metadata": {},
   "source": [
    "### 5.1 Data Distribution"
   ]
  },
  {
   "cell_type": "code",
   "execution_count": 33,
   "metadata": {
    "scrolled": true
   },
   "outputs": [
    {
     "data": {
      "text/plain": [
       "((53728, 8), (13432, 8))"
      ]
     },
     "execution_count": 33,
     "metadata": {},
     "output_type": "execute_result"
    }
   ],
   "source": [
    "users = movies_ratings.userId.unique()\n",
    "movies = movies_ratings.movieId.unique()\n",
    "\n",
    "# len(users), len(movies)\n",
    "\n",
    "userid2idx = {o:i for i,o in enumerate(users)}\n",
    "movieid2idx = {o:i for i,o in enumerate(movies)}\n",
    "\n",
    "movies_ratings['userId']  = movies_ratings['userId'].apply(lambda x: userid2idx[x])\n",
    "movies_ratings['movieId'] = movies_ratings['movieId'].apply(lambda x: movieid2idx[x])\n",
    "\n",
    "train, valid = train_test_split(movies_ratings, test_size=0.2, random_state=42, shuffle=True)\n",
    "train.shape , valid.shape"
   ]
  },
  {
   "cell_type": "markdown",
   "metadata": {},
   "source": [
    "### 5.2 Model"
   ]
  },
  {
   "cell_type": "code",
   "execution_count": 55,
   "metadata": {
    "scrolled": false
   },
   "outputs": [],
   "source": [
    "import tensorflow as tf\n",
    "from tensorflow.keras.layers import Dropout, Flatten,Activation,Input,Embedding, Dense,BatchNormalization\n",
    "\n",
    "from tensorflow.keras.layers import dot\n",
    "from tensorflow.keras.models import Model\n",
    "\n",
    "from tensorflow.keras.optimizers import Adam,SGD,Adagrad,Adadelta,RMSprop"
   ]
  },
  {
   "cell_type": "code",
   "execution_count": 40,
   "metadata": {},
   "outputs": [],
   "source": [
    "n_movies=len(movies_ratings['movieId'].unique())\n",
    "n_users=len(movies_ratings['userId'].unique())\n",
    "n_latent_factors=64  # hyperparamter to deal with. \n",
    "\n",
    "user_input=Input(shape=(1,),name='user_input',dtype='int64')\n",
    "\n",
    "user_embedding=Embedding(n_users,n_latent_factors,name='user_embedding')(user_input)\n",
    "#user_embedding.shape\n",
    "\n",
    "user_vec =Flatten(name='FlattenUsers')(user_embedding)\n",
    "#user_vec.shape\n",
    "\n",
    "movie_input=Input(shape=(1,),name='movie_input',dtype='int64')\n",
    "movie_embedding=Embedding(n_movies,n_latent_factors,name='movie_embedding')(movie_input)\n",
    "movie_vec=Flatten(name='FlattenMovies')(movie_embedding)\n",
    "#movie_vec\n",
    "\n",
    "sim=dot([user_vec,movie_vec],name='Simalarity-Dot-Product',axes=1)\n",
    "model = Model([user_input, movie_input],sim)\n",
    "\n",
    "# A summary of the model is shown below-->\n",
    "model.summary()"
   ]
  },
  {
   "cell_type": "code",
   "execution_count": 43,
   "metadata": {},
   "outputs": [],
   "source": [
    "model.compile(optimizer=Adam(lr=1e-4),loss='mse')"
   ]
  },
  {
   "cell_type": "code",
   "execution_count": 44,
   "metadata": {
    "scrolled": true
   },
   "outputs": [
    {
     "name": "stderr",
     "output_type": "stream",
     "text": [
      "E:\\ProgramData\\Anaconda3\\envs\\tensorflow_gpuenv\\lib\\site-packages\\tensorflow\\python\\ops\\gradients_impl.py:112: UserWarning: Converting sparse IndexedSlices to a dense Tensor of unknown shape. This may consume a large amount of memory.\n",
      "  \"Converting sparse IndexedSlices to a dense Tensor of unknown shape. \"\n"
     ]
    },
    {
     "name": "stdout",
     "output_type": "stream",
     "text": [
      "Train on 53728 samples, validate on 13432 samples\n",
      "Epoch 1/50\n",
      "53728/53728 [==============================] - 17s 309us/step - loss: 13.4120 - val_loss: 13.4853\n",
      "Epoch 2/50\n",
      "53728/53728 [==============================] - 1s 18us/step - loss: 13.4029 - val_loss: 13.4827\n",
      "Epoch 3/50\n",
      "53728/53728 [==============================] - 1s 18us/step - loss: 13.3885 - val_loss: 13.4722\n",
      "Epoch 4/50\n",
      "53728/53728 [==============================] - 1s 18us/step - loss: 13.3586 - val_loss: 13.4378\n",
      "Epoch 5/50\n",
      "53728/53728 [==============================] - 1s 18us/step - loss: 13.2868 - val_loss: 13.3414\n",
      "Epoch 6/50\n",
      "53728/53728 [==============================] - 1s 18us/step - loss: 13.1203 - val_loss: 13.1167\n",
      "Epoch 7/50\n",
      "53728/53728 [==============================] - 1s 18us/step - loss: 12.7868 - val_loss: 12.6925\n",
      "Epoch 8/50\n",
      "53728/53728 [==============================] - 1s 18us/step - loss: 12.2307 - val_loss: 12.0346\n",
      "Epoch 9/50\n",
      "53728/53728 [==============================] - 1s 18us/step - loss: 11.4465 - val_loss: 11.1667\n",
      "Epoch 10/50\n",
      "53728/53728 [==============================] - 1s 19us/step - loss: 10.4789 - val_loss: 10.1467\n",
      "Epoch 11/50\n",
      "53728/53728 [==============================] - 1s 18us/step - loss: 9.3957 - val_loss: 9.0492\n",
      "Epoch 12/50\n",
      "53728/53728 [==============================] - 1s 18us/step - loss: 8.2724 - val_loss: 7.9465\n",
      "Epoch 13/50\n",
      "53728/53728 [==============================] - 1s 17us/step - loss: 7.1787 - val_loss: 6.9030\n",
      "Epoch 14/50\n",
      "53728/53728 [==============================] - 1s 18us/step - loss: 6.1729 - val_loss: 5.9698\n",
      "Epoch 15/50\n",
      "53728/53728 [==============================] - 1s 19us/step - loss: 5.2965 - val_loss: 5.1781\n",
      "Epoch 16/50\n",
      "53728/53728 [==============================] - 1s 18us/step - loss: 4.5686 - val_loss: 4.5348\n",
      "Epoch 17/50\n",
      "53728/53728 [==============================] - 1s 18us/step - loss: 3.9845 - val_loss: 4.0270\n",
      "Epoch 18/50\n",
      "53728/53728 [==============================] - 1s 18us/step - loss: 3.5227 - val_loss: 3.6257\n",
      "Epoch 19/50\n",
      "53728/53728 [==============================] - 1s 18us/step - loss: 3.1547 - val_loss: 3.3050\n",
      "Epoch 20/50\n",
      "53728/53728 [==============================] - 1s 18us/step - loss: 2.8542 - val_loss: 3.0398\n",
      "Epoch 21/50\n",
      "53728/53728 [==============================] - 1s 18us/step - loss: 2.6026 - val_loss: 2.8160\n",
      "Epoch 22/50\n",
      "53728/53728 [==============================] - 1s 18us/step - loss: 2.3878 - val_loss: 2.6240\n",
      "Epoch 23/50\n",
      "53728/53728 [==============================] - 1s 18us/step - loss: 2.2020 - val_loss: 2.4570\n",
      "Epoch 24/50\n",
      "53728/53728 [==============================] - 1s 19us/step - loss: 2.0397 - val_loss: 2.3107\n",
      "Epoch 25/50\n",
      "53728/53728 [==============================] - 1s 18us/step - loss: 1.8972 - val_loss: 2.1823\n",
      "Epoch 26/50\n",
      "53728/53728 [==============================] - 1s 18us/step - loss: 1.7716 - val_loss: 2.0691\n",
      "Epoch 27/50\n",
      "53728/53728 [==============================] - 1s 19us/step - loss: 1.6603 - val_loss: 1.9689\n",
      "Epoch 28/50\n",
      "53728/53728 [==============================] - 1s 18us/step - loss: 1.5614 - val_loss: 1.8799\n",
      "Epoch 29/50\n",
      "53728/53728 [==============================] - 1s 18us/step - loss: 1.4731 - val_loss: 1.8007\n",
      "Epoch 30/50\n",
      "53728/53728 [==============================] - 1s 18us/step - loss: 1.3941 - val_loss: 1.7301\n",
      "Epoch 31/50\n",
      "53728/53728 [==============================] - 1s 18us/step - loss: 1.3234 - val_loss: 1.6670\n",
      "Epoch 32/50\n",
      "53728/53728 [==============================] - 1s 18us/step - loss: 1.2597 - val_loss: 1.6109\n",
      "Epoch 33/50\n",
      "53728/53728 [==============================] - 1s 18us/step - loss: 1.2024 - val_loss: 1.5604\n",
      "Epoch 34/50\n",
      "53728/53728 [==============================] - 1s 18us/step - loss: 1.1506 - val_loss: 1.5151\n",
      "Epoch 35/50\n",
      "53728/53728 [==============================] - 1s 19us/step - loss: 1.1037 - val_loss: 1.4742\n",
      "Epoch 36/50\n",
      "53728/53728 [==============================] - 1s 17us/step - loss: 1.0612 - val_loss: 1.4375\n",
      "Epoch 37/50\n",
      "53728/53728 [==============================] - 1s 18us/step - loss: 1.0224 - val_loss: 1.4044\n",
      "Epoch 38/50\n",
      "53728/53728 [==============================] - 1s 18us/step - loss: 0.9871 - val_loss: 1.3747\n",
      "Epoch 39/50\n",
      "53728/53728 [==============================] - 1s 18us/step - loss: 0.9550 - val_loss: 1.3474\n",
      "Epoch 40/50\n",
      "53728/53728 [==============================] - 1s 18us/step - loss: 0.9254 - val_loss: 1.3229\n",
      "Epoch 41/50\n",
      "53728/53728 [==============================] - 1s 18us/step - loss: 0.8984 - val_loss: 1.3006\n",
      "Epoch 42/50\n",
      "53728/53728 [==============================] - 1s 18us/step - loss: 0.8735 - val_loss: 1.2804\n",
      "Epoch 43/50\n",
      "53728/53728 [==============================] - 1s 18us/step - loss: 0.8505 - val_loss: 1.2619\n",
      "Epoch 44/50\n",
      "53728/53728 [==============================] - 1s 17us/step - loss: 0.8293 - val_loss: 1.2452\n",
      "Epoch 45/50\n",
      "53728/53728 [==============================] - 1s 17us/step - loss: 0.8097 - val_loss: 1.2299\n",
      "Epoch 46/50\n",
      "53728/53728 [==============================] - 1s 17us/step - loss: 0.7916 - val_loss: 1.2159\n",
      "Epoch 47/50\n",
      "53728/53728 [==============================] - 1s 18us/step - loss: 0.7747 - val_loss: 1.2031\n",
      "Epoch 48/50\n",
      "53728/53728 [==============================] - 1s 17us/step - loss: 0.7590 - val_loss: 1.1912\n",
      "Epoch 49/50\n",
      "53728/53728 [==============================] - 1s 17us/step - loss: 0.7444 - val_loss: 1.1804\n",
      "Epoch 50/50\n",
      "53728/53728 [==============================] - 1s 17us/step - loss: 0.7307 - val_loss: 1.1706\n"
     ]
    }
   ],
   "source": [
    "batch_size, epochs = 128, 50\n",
    "\n",
    "History = model.fit([train.userId,train.movieId],train.rating, batch_size=batch_size, epochs =epochs, \n",
    "                    validation_data = ([valid.userId,valid.movieId],valid.rating), verbose = 1)"
   ]
  },
  {
   "cell_type": "markdown",
   "metadata": {},
   "source": [
    "### 5.2.1 Evaluating the Model Performance"
   ]
  },
  {
   "cell_type": "code",
   "execution_count": 60,
   "metadata": {
    "scrolled": true
   },
   "outputs": [],
   "source": [
    "def plot_model_loss(temp_history):\n",
    "    plt.figure(figsize=(12,7))\n",
    "\n",
    "    plt.plot(temp_history.history['loss'] , 'g')\n",
    "    plt.plot(temp_history.history['val_loss'] , 'b')\n",
    "\n",
    "    plt.title('model loss')\n",
    "    plt.ylabel('loss')\n",
    "    plt.xlabel('epoch')\n",
    "\n",
    "    plt.legend(['train', 'test'], loc='upper right')\n",
    "    plt.grid(True)\n",
    "    plt.show()"
   ]
  },
  {
   "cell_type": "code",
   "execution_count": null,
   "metadata": {},
   "outputs": [],
   "source": [
    "plot_model_loss(History)"
   ]
  },
  {
   "cell_type": "markdown",
   "metadata": {},
   "source": [
    "### 5.3 Model"
   ]
  },
  {
   "cell_type": "code",
   "execution_count": 57,
   "metadata": {
    "scrolled": true
   },
   "outputs": [
    {
     "name": "stdout",
     "output_type": "stream",
     "text": [
      "__________________________________________________________________________________________________\n",
      "Layer (type)                    Output Shape         Param #     Connected to                     \n",
      "==================================================================================================\n",
      "user_input (InputLayer)         (None, 1)            0                                            \n",
      "__________________________________________________________________________________________________\n",
      "movie_input (InputLayer)        (None, 1)            0                                            \n",
      "__________________________________________________________________________________________________\n",
      "user_embedding (Embedding)      (None, 1, 50)        30500       user_input[0][0]                 \n",
      "__________________________________________________________________________________________________\n",
      "movie_embedding (Embedding)     (None, 1, 50)        270050      movie_input[0][0]                \n",
      "__________________________________________________________________________________________________\n",
      "FlattenUsers (Flatten)          (None, 50)           0           user_embedding[0][0]             \n",
      "__________________________________________________________________________________________________\n",
      "FlattenMovies (Flatten)         (None, 50)           0           movie_embedding[0][0]            \n",
      "__________________________________________________________________________________________________\n",
      "dropout_8 (Dropout)             (None, 50)           0           FlattenUsers[0][0]               \n",
      "__________________________________________________________________________________________________\n",
      "dropout_9 (Dropout)             (None, 50)           0           FlattenMovies[0][0]              \n",
      "__________________________________________________________________________________________________\n",
      "Simalarity-Dot-Product (Dot)    (None, 1)            0           dropout_8[0][0]                  \n",
      "                                                                 dropout_9[0][0]                  \n",
      "__________________________________________________________________________________________________\n",
      "dense_3 (Dense)                 (None, 96)           192         Simalarity-Dot-Product[0][0]     \n",
      "__________________________________________________________________________________________________\n",
      "dropout_10 (Dropout)            (None, 96)           0           dense_3[0][0]                    \n",
      "__________________________________________________________________________________________________\n",
      "batch_normalization_1 (BatchNor (None, 96)           384         dropout_10[0][0]                 \n",
      "__________________________________________________________________________________________________\n",
      "dense_4 (Dense)                 (None, 1)            97          batch_normalization_1[0][0]      \n",
      "==================================================================================================\n",
      "Total params: 301,223\n",
      "Trainable params: 301,031\n",
      "Non-trainable params: 192\n",
      "__________________________________________________________________________________________________\n"
     ]
    }
   ],
   "source": [
    "n_movies=len(movies_ratings['movieId'].unique())\n",
    "n_users=len(movies_ratings['userId'].unique())\n",
    "\n",
    "n_latent_factors=50\n",
    "\n",
    "user_input=Input(shape=(1,),name='user_input',dtype='int64')\n",
    "user_embedding=Embedding(n_users,n_latent_factors,name='user_embedding')(user_input)\n",
    "#user_embedding.shape\n",
    "\n",
    "user_vec=Flatten(name='FlattenUsers')(user_embedding)\n",
    "user_vec=Dropout(0.40)(user_vec)\n",
    "#user_vec.shape\n",
    "\n",
    "movie_input=Input(shape=(1,),name='movie_input',dtype='int64')\n",
    "movie_embedding=Embedding(n_movies,n_latent_factors,name='movie_embedding')(movie_input)\n",
    "#movie_embedding.shape\n",
    "\n",
    "movie_vec=Flatten(name='FlattenMovies')(movie_embedding)\n",
    "movie_vec=Dropout(0.40)(movie_vec)\n",
    "#movie_vec.shape\n",
    "\n",
    "sim=dot([user_vec,movie_vec],name='Simalarity-Dot-Product',axes=1)\n",
    "\n",
    "nn_inp=Dense(96,activation='relu')(sim)\n",
    "nn_inp=Dropout(0.4)(nn_inp)\n",
    "nn_inp=BatchNormalization()(nn_inp)\n",
    "nn_inp=Dense(1,activation='relu')(nn_inp)\n",
    "\n",
    "nn_model =Model([user_input, movie_input],nn_inp)\n",
    "\n",
    "# A summary of the model is shown below-->\n",
    "nn_model.summary()"
   ]
  },
  {
   "cell_type": "code",
   "execution_count": 58,
   "metadata": {},
   "outputs": [],
   "source": [
    "nn_model.compile(optimizer=Adam(lr=1e-3),loss='mse')"
   ]
  },
  {
   "cell_type": "code",
   "execution_count": 59,
   "metadata": {
    "scrolled": true
   },
   "outputs": [
    {
     "name": "stderr",
     "output_type": "stream",
     "text": [
      "E:\\ProgramData\\Anaconda3\\envs\\tensorflow_gpuenv\\lib\\site-packages\\tensorflow\\python\\ops\\gradients_impl.py:112: UserWarning: Converting sparse IndexedSlices to a dense Tensor of unknown shape. This may consume a large amount of memory.\n",
      "  \"Converting sparse IndexedSlices to a dense Tensor of unknown shape. \"\n"
     ]
    },
    {
     "name": "stdout",
     "output_type": "stream",
     "text": [
      "Train on 53728 samples, validate on 13432 samples\n",
      "Epoch 1/20\n",
      "53728/53728 [==============================] - 9s 166us/step - loss: 2.8012 - val_loss: 1.0930\n",
      "Epoch 2/20\n",
      "53728/53728 [==============================] - 2s 30us/step - loss: 1.0884 - val_loss: 1.0930\n",
      "Epoch 3/20\n",
      "53728/53728 [==============================] - 2s 30us/step - loss: 1.0450 - val_loss: 1.0634\n",
      "Epoch 4/20\n",
      "53728/53728 [==============================] - 2s 30us/step - loss: 0.8819 - val_loss: 0.9791\n",
      "Epoch 5/20\n",
      "53728/53728 [==============================] - 2s 30us/step - loss: 0.7461 - val_loss: 0.9164\n",
      "Epoch 6/20\n",
      "53728/53728 [==============================] - 2s 31us/step - loss: 0.6676 - val_loss: 0.8894\n",
      "Epoch 7/20\n",
      "53728/53728 [==============================] - 2s 31us/step - loss: 0.6146 - val_loss: 0.8790\n",
      "Epoch 8/20\n",
      "53728/53728 [==============================] - 2s 34us/step - loss: 0.5841 - val_loss: 0.8570\n",
      "Epoch 9/20\n",
      "53728/53728 [==============================] - 2s 31us/step - loss: 0.5603 - val_loss: 0.8538\n",
      "Epoch 10/20\n",
      "53728/53728 [==============================] - 2s 31us/step - loss: 0.5452 - val_loss: 0.8523\n",
      "Epoch 11/20\n",
      "53728/53728 [==============================] - 2s 31us/step - loss: 0.5379 - val_loss: 0.8364\n",
      "Epoch 12/20\n",
      "53728/53728 [==============================] - 2s 31us/step - loss: 0.5185 - val_loss: 0.8561\n",
      "Epoch 13/20\n",
      "53728/53728 [==============================] - 2s 33us/step - loss: 0.5075 - val_loss: 0.8287\n",
      "Epoch 14/20\n",
      "53728/53728 [==============================] - 2s 31us/step - loss: 0.4976 - val_loss: 0.8380\n",
      "Epoch 15/20\n",
      "53728/53728 [==============================] - 2s 37us/step - loss: 0.4973 - val_loss: 0.8310\n",
      "Epoch 16/20\n",
      "53728/53728 [==============================] - 2s 31us/step - loss: 0.4895 - val_loss: 0.8286\n",
      "Epoch 17/20\n",
      "53728/53728 [==============================] - 2s 31us/step - loss: 0.4799 - val_loss: 0.8209\n",
      "Epoch 18/20\n",
      "53728/53728 [==============================] - 2s 30us/step - loss: 0.4784 - val_loss: 0.8248\n",
      "Epoch 19/20\n",
      "53728/53728 [==============================] - 2s 32us/step - loss: 0.4712 - val_loss: 0.8202\n",
      "Epoch 20/20\n",
      "53728/53728 [==============================] - 2s 30us/step - loss: 0.4677 - val_loss: 0.8218\n"
     ]
    }
   ],
   "source": [
    "batch_size, epochs = 128, 20\n",
    "\n",
    "History = nn_model.fit([train.userId,train.movieId],train.rating, batch_size=batch_size, epochs =epochs, \n",
    "                       validation_data = ([valid.userId,valid.movieId],valid.rating), verbose = 1)"
   ]
  },
  {
   "cell_type": "code",
   "execution_count": 61,
   "metadata": {
    "scrolled": true
   },
   "outputs": [
    {
     "data": {
      "image/png": "[encoded data removed]",
      "text/plain": [
       "<Figure size 864x504 with 1 Axes>"
      ]
     },
     "metadata": {
      "needs_background": "light"
     },
     "output_type": "display_data"
    }
   ],
   "source": [
    "plot_model_loss(History)"
   ]
  },
  {
   "cell_type": "code",
   "execution_count": null,
   "metadata": {},
   "outputs": [],
   "source": [
    "nn_model.predict()"
   ]
  }
 ],
 "metadata": {
  "kernelspec": {
   "display_name": "tensorflow_gpuenv",
   "language": "python",
   "name": "tensorflow_gpuenv"
  },
  "language_info": {
   "codemirror_mode": {
    "name": "ipython",
    "version": 3
   },
   "file_extension": ".py",
   "mimetype": "text/x-python",
   "name": "python",
   "nbconvert_exporter": "python",
   "pygments_lexer": "ipython3",
   "version": "3.6.10"
  }
 },
 "nbformat": 4,
 "nbformat_minor": 4
}
