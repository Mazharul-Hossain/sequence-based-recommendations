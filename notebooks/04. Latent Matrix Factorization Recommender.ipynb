{
 "cells": [
  {
   "cell_type": "markdown",
   "metadata": {},
   "source": [
    "# Analysis of MovieLens dataset (Beginner'sAnalysis)\n",
    "\n",
    "Data Source: https://www.kaggle.com/jneupane12/analysis-of-movielens-dataset-beginner-sanalysis\n",
    "<br>Algorithm: https://towardsdatascience.com/introduction-to-latent-matrix-factorization-recommender-systems-8dfc63b94875\n",
    "<br>Notebook: https://www.kaggle.com/robottums/probabalistic-matrix-factorization-with-suprise"
   ]
  },
  {
   "cell_type": "code",
   "execution_count": 3,
   "metadata": {},
   "outputs": [
    {
     "name": "stdout",
     "output_type": "stream",
     "text": [
      "E:\\ProgramData\\Anaconda3\\envs\\tensorflow_gpuenv\\python.exe\n"
     ]
    }
   ],
   "source": [
    "import sys\n",
    "print(sys.executable)"
   ]
  },
  {
   "cell_type": "code",
   "execution_count": 4,
   "metadata": {
    "scrolled": true
   },
   "outputs": [
    {
     "data": {
      "text/plain": [
       "'C:\\\\Users\\\\mazha\\\\AppData\\\\Roaming\\\\Python\\\\Python37\\\\site-packages\\\\pywin32_system32;E:\\\\ProgramData\\\\Anaconda3\\\\envs\\\\tensorflow_gpuenv;E:\\\\ProgramData\\\\Anaconda3\\\\envs\\\\tensorflow_gpuenv\\\\Library\\\\mingw-w64\\\\bin;E:\\\\ProgramData\\\\Anaconda3\\\\envs\\\\tensorflow_gpuenv\\\\Library\\\\usr\\\\bin;E:\\\\ProgramData\\\\Anaconda3\\\\envs\\\\tensorflow_gpuenv\\\\Library\\\\bin;E:\\\\ProgramData\\\\Anaconda3\\\\envs\\\\tensorflow_gpuenv\\\\Scripts;E:\\\\ProgramData\\\\Anaconda3\\\\envs\\\\tensorflow_gpuenv\\\\bin;E:\\\\ProgramData\\\\Anaconda3;E:\\\\ProgramData\\\\Anaconda3\\\\Library\\\\mingw-w64\\\\bin;E:\\\\ProgramData\\\\Anaconda3\\\\Library\\\\usr\\\\bin;E:\\\\ProgramData\\\\Anaconda3\\\\Library\\\\bin;E:\\\\ProgramData\\\\Anaconda3\\\\Scripts;E:\\\\ProgramData\\\\Anaconda3\\\\bin;E:\\\\ProgramData\\\\Anaconda3;E:\\\\ProgramData\\\\Anaconda3\\\\Library\\\\mingw-w64\\\\bin;E:\\\\ProgramData\\\\Anaconda3\\\\Library\\\\usr\\\\bin;E:\\\\ProgramData\\\\Anaconda3\\\\Library\\\\bin;E:\\\\ProgramData\\\\Anaconda3\\\\Scripts;E:\\\\ProgramData\\\\Anaconda3\\\\bin;E:\\\\ProgramData\\\\Anaconda3;E:\\\\ProgramData\\\\Anaconda3\\\\Library\\\\mingw-w64\\\\bin;E:\\\\ProgramData\\\\Anaconda3\\\\Library\\\\usr\\\\bin;E:\\\\ProgramData\\\\Anaconda3\\\\Library\\\\bin;E:\\\\ProgramData\\\\Anaconda3\\\\Scripts;E:\\\\ProgramData\\\\Anaconda3\\\\bin;E:\\\\ProgramData\\\\Anaconda3;E:\\\\ProgramData\\\\Anaconda3\\\\Library\\\\mingw-w64\\\\bin;E:\\\\ProgramData\\\\Anaconda3\\\\Library\\\\usr\\\\bin;E:\\\\ProgramData\\\\Anaconda3\\\\Library\\\\bin;E:\\\\ProgramData\\\\Anaconda3\\\\Scripts;E:\\\\ProgramData\\\\Anaconda3\\\\bin;E:\\\\ProgramData\\\\Anaconda3;E:\\\\ProgramData\\\\Anaconda3\\\\Library\\\\mingw-w64\\\\bin;E:\\\\ProgramData\\\\Anaconda3\\\\Library\\\\usr\\\\bin;E:\\\\ProgramData\\\\Anaconda3\\\\Library\\\\bin;E:\\\\ProgramData\\\\Anaconda3\\\\Scripts;E:\\\\ProgramData\\\\Anaconda3\\\\bin;E:\\\\ProgramData\\\\Anaconda3;E:\\\\ProgramData\\\\Anaconda3\\\\Library\\\\mingw-w64\\\\bin;E:\\\\ProgramData\\\\Anaconda3\\\\Library\\\\usr\\\\bin;E:\\\\ProgramData\\\\Anaconda3\\\\Library\\\\bin;E:\\\\ProgramData\\\\Anaconda3\\\\Scripts;E:\\\\ProgramData\\\\Anaconda3\\\\bin;E:\\\\ProgramData\\\\Anaconda3;E:\\\\ProgramData\\\\Anaconda3\\\\Library\\\\mingw-w64\\\\bin;E:\\\\ProgramData\\\\Anaconda3\\\\Library\\\\usr\\\\bin;E:\\\\ProgramData\\\\Anaconda3\\\\Library\\\\bin;E:\\\\ProgramData\\\\Anaconda3\\\\Scripts;E:\\\\ProgramData\\\\Anaconda3\\\\bin;E:\\\\ProgramData\\\\Anaconda3;E:\\\\ProgramData\\\\Anaconda3\\\\Library\\\\mingw-w64\\\\bin;E:\\\\ProgramData\\\\Anaconda3\\\\Library\\\\usr\\\\bin;E:\\\\ProgramData\\\\Anaconda3\\\\Library\\\\bin;E:\\\\ProgramData\\\\Anaconda3\\\\Scripts;E:\\\\ProgramData\\\\Anaconda3\\\\bin;E:\\\\ProgramData\\\\Anaconda3;E:\\\\ProgramData\\\\Anaconda3\\\\Library\\\\mingw-w64\\\\bin;E:\\\\ProgramData\\\\Anaconda3\\\\Library\\\\usr\\\\bin;E:\\\\ProgramData\\\\Anaconda3\\\\Library\\\\bin;E:\\\\ProgramData\\\\Anaconda3\\\\Scripts;E:\\\\ProgramData\\\\Anaconda3\\\\bin;E:\\\\ProgramData\\\\Anaconda3;E:\\\\ProgramData\\\\Anaconda3\\\\Library\\\\mingw-w64\\\\bin;E:\\\\ProgramData\\\\Anaconda3\\\\Library\\\\usr\\\\bin;E:\\\\ProgramData\\\\Anaconda3\\\\Library\\\\bin;E:\\\\ProgramData\\\\Anaconda3\\\\Scripts;E:\\\\ProgramData\\\\Anaconda3\\\\bin;E:\\\\ProgramData\\\\Anaconda3;E:\\\\ProgramData\\\\Anaconda3\\\\Library\\\\mingw-w64\\\\bin;E:\\\\ProgramData\\\\Anaconda3\\\\Library\\\\usr\\\\bin;E:\\\\ProgramData\\\\Anaconda3\\\\Library\\\\bin;E:\\\\ProgramData\\\\Anaconda3\\\\Scripts;E:\\\\ProgramData\\\\Anaconda3\\\\bin;E:\\\\ProgramData\\\\Anaconda3;E:\\\\ProgramData\\\\Anaconda3\\\\Library\\\\mingw-w64\\\\bin;E:\\\\ProgramData\\\\Anaconda3\\\\Library\\\\usr\\\\bin;E:\\\\ProgramData\\\\Anaconda3\\\\Library\\\\bin;E:\\\\ProgramData\\\\Anaconda3\\\\Scripts;E:\\\\ProgramData\\\\Anaconda3\\\\bin;E:\\\\ProgramData\\\\Anaconda3;E:\\\\ProgramData\\\\Anaconda3\\\\Library\\\\mingw-w64\\\\bin;E:\\\\ProgramData\\\\Anaconda3\\\\Library\\\\usr\\\\bin;E:\\\\ProgramData\\\\Anaconda3\\\\Library\\\\bin;E:\\\\ProgramData\\\\Anaconda3\\\\Scripts;E:\\\\ProgramData\\\\Anaconda3\\\\bin;E:\\\\ProgramData\\\\Anaconda3;E:\\\\ProgramData\\\\Anaconda3\\\\Library\\\\mingw-w64\\\\bin;E:\\\\ProgramData\\\\Anaconda3\\\\Library\\\\usr\\\\bin;E:\\\\ProgramData\\\\Anaconda3\\\\Library\\\\bin;E:\\\\ProgramData\\\\Anaconda3\\\\Scripts;E:\\\\ProgramData\\\\Anaconda3\\\\bin;E:\\\\ProgramData\\\\Anaconda3;E:\\\\ProgramData\\\\Anaconda3\\\\Library\\\\mingw-w64\\\\bin;E:\\\\ProgramData\\\\Anaconda3\\\\Library\\\\usr\\\\bin;E:\\\\ProgramData\\\\Anaconda3\\\\Library\\\\bin;E:\\\\ProgramData\\\\Anaconda3\\\\Scripts;E:\\\\ProgramData\\\\Anaconda3\\\\bin;E:\\\\ProgramData\\\\Anaconda3;E:\\\\ProgramData\\\\Anaconda3\\\\Library\\\\mingw-w64\\\\bin;E:\\\\ProgramData\\\\Anaconda3\\\\Library\\\\usr\\\\bin;E:\\\\ProgramData\\\\Anaconda3\\\\Library\\\\bin;E:\\\\ProgramData\\\\Anaconda3\\\\Scripts;E:\\\\ProgramData\\\\Anaconda3\\\\bin;E:\\\\ProgramData\\\\Anaconda3;E:\\\\ProgramData\\\\Anaconda3\\\\Library\\\\mingw-w64\\\\bin;E:\\\\ProgramData\\\\Anaconda3\\\\Library\\\\usr\\\\bin;E:\\\\ProgramData\\\\Anaconda3\\\\Library\\\\bin;E:\\\\ProgramData\\\\Anaconda3\\\\Scripts;E:\\\\ProgramData\\\\Anaconda3\\\\bin;E:\\\\ProgramData\\\\Anaconda3\\\\condabin;E:\\\\ProgramData\\\\Anaconda3;E:\\\\ProgramData\\\\Anaconda3\\\\Library\\\\mingw-w64\\\\bin;E:\\\\ProgramData\\\\Anaconda3\\\\Library\\\\usr\\\\bin;E:\\\\ProgramData\\\\Anaconda3\\\\Library\\\\bin;E:\\\\ProgramData\\\\Anaconda3\\\\Scripts;E:\\\\ProgramData\\\\Anaconda3\\\\bin;C:\\\\Windows\\\\system32;C:\\\\Windows;C:\\\\Windows\\\\System32\\\\Wbem;C:\\\\Windows\\\\System32\\\\WindowsPowerShell\\\\v1.0;C:\\\\Program Files (x86)\\\\NVIDIA Corporation\\\\PhysX\\\\Common;C:\\\\WINDOWS\\\\system32;C:\\\\WINDOWS;C:\\\\WINDOWS\\\\System32\\\\Wbem;C:\\\\WINDOWS\\\\System32\\\\WindowsPowerShell\\\\v1.0;C:\\\\WINDOWS\\\\System32\\\\OpenSSH;C:\\\\Program Files\\\\Microsoft SQL Server\\\\130\\\\Tools\\\\Binn;E:\\\\Program Files\\\\Git\\\\cmd;E:\\\\Program Files (x86)\\\\Insta360Stitcher\\\\tools\\\\proStitcher;C:\\\\Program Files\\\\NVIDIA Corporation\\\\NVIDIA NvDLISR;C:\\\\WINDOWS\\\\system32;C:\\\\WINDOWS;C:\\\\WINDOWS\\\\System32\\\\Wbem;C:\\\\WINDOWS\\\\System32\\\\WindowsPowerShell\\\\v1.0;C:\\\\WINDOWS\\\\System32\\\\OpenSSH;C:\\\\Program Files\\\\Intel\\\\WiFi\\\\bin;C:\\\\Program Files\\\\Common Files\\\\Intel\\\\WirelessCommon;C:\\\\Program Files\\\\EmEditor;C:\\\\Program Files (x86)\\\\Intel\\\\Intel(R) Management Engine Components\\\\DAL;C:\\\\Program Files\\\\Intel\\\\Intel(R) Management Engine Components\\\\DAL;C:\\\\Users\\\\mazha\\\\AppData\\\\Local\\\\Microsoft\\\\WindowsApps;C:\\\\Users\\\\mazha\\\\AppData\\\\Local\\\\GitHubDesktop\\\\bin;C:\\\\Program Files\\\\Intel\\\\WiFi\\\\bin;C:\\\\Program Files\\\\Common Files\\\\Intel\\\\WirelessCommon;E:\\\\Program Files (x86)\\\\Insta360Stitcher\\\\tools\\\\proStitcher;E:\\\\ProgramData\\\\Anaconda3;E:\\\\ProgramData\\\\Anaconda3\\\\Scripts;.;.;C:\\\\Users\\\\mazha\\\\AppData\\\\Local\\\\Microsoft\\\\WindowsApps;E:\\\\Program Files\\\\Microsoft VS Code\\\\bin;E:\\\\Program Files\\\\heroku\\\\bin'"
      ]
     },
     "execution_count": 4,
     "metadata": {},
     "output_type": "execute_result"
    }
   ],
   "source": [
    "import os\n",
    "os.environ['PATH']"
   ]
  },
  {
   "cell_type": "markdown",
   "metadata": {},
   "source": [
    "## 1. First we import necessary Libaries"
   ]
  },
  {
   "cell_type": "code",
   "execution_count": 5,
   "metadata": {
    "scrolled": false
   },
   "outputs": [],
   "source": [
    "import numpy as np #provides numerical arrays and functions to manipulate the arrays efficiently\n",
    "import pandas as pd # pandas is a data manipulation library\n",
    "import random\n",
    "import matplotlib.pyplot as plt # data visualization library\n",
    "import time\n",
    "import datetime\n",
    "import re"
   ]
  },
  {
   "cell_type": "markdown",
   "metadata": {},
   "source": [
    "## 2.Reading and Exploring the Data"
   ]
  },
  {
   "cell_type": "code",
   "execution_count": 6,
   "metadata": {},
   "outputs": [],
   "source": [
    "movies = pd.read_csv(\"datasets/movies.csv\")\n",
    "ratings = pd.read_csv(\"datasets/ratings.csv\")\n",
    "tags = pd.read_csv(\"datasets/tags.csv\")"
   ]
  },
  {
   "cell_type": "markdown",
   "metadata": {},
   "source": [
    "### 2.1 Load Movies Data"
   ]
  },
  {
   "cell_type": "code",
   "execution_count": 7,
   "metadata": {},
   "outputs": [
    {
     "data": {
      "text/html": [
       "<div>\n",
       "<style scoped>\n",
       "    .dataframe tbody tr th:only-of-type {\n",
       "        vertical-align: middle;\n",
       "    }\n",
       "\n",
       "    .dataframe tbody tr th {\n",
       "        vertical-align: top;\n",
       "    }\n",
       "\n",
       "    .dataframe thead th {\n",
       "        text-align: right;\n",
       "    }\n",
       "</style>\n",
       "<table border=\"1\" class=\"dataframe\">\n",
       "  <thead>\n",
       "    <tr style=\"text-align: right;\">\n",
       "      <th></th>\n",
       "      <th>movieId</th>\n",
       "      <th>title</th>\n",
       "      <th>genres</th>\n",
       "    </tr>\n",
       "  </thead>\n",
       "  <tbody>\n",
       "    <tr>\n",
       "      <th>7179</th>\n",
       "      <td>72224</td>\n",
       "      <td>Gentlemen Broncos (2009)</td>\n",
       "      <td>Comedy</td>\n",
       "    </tr>\n",
       "    <tr>\n",
       "      <th>5084</th>\n",
       "      <td>8011</td>\n",
       "      <td>Weather Underground, The (2002)</td>\n",
       "      <td>Documentary</td>\n",
       "    </tr>\n",
       "    <tr>\n",
       "      <th>8400</th>\n",
       "      <td>110297</td>\n",
       "      <td>Muppets Most Wanted (2014)</td>\n",
       "      <td>Adventure|Comedy|Crime</td>\n",
       "    </tr>\n",
       "    <tr>\n",
       "      <th>2297</th>\n",
       "      <td>3044</td>\n",
       "      <td>Dead Again (1991)</td>\n",
       "      <td>Mystery|Romance|Thriller</td>\n",
       "    </tr>\n",
       "    <tr>\n",
       "      <th>8750</th>\n",
       "      <td>127323</td>\n",
       "      <td>Vice (2015)</td>\n",
       "      <td>Action|Adventure|Sci-Fi|Thriller</td>\n",
       "    </tr>\n",
       "  </tbody>\n",
       "</table>\n",
       "</div>"
      ],
      "text/plain": [
       "      movieId                            title  \\\n",
       "7179    72224         Gentlemen Broncos (2009)   \n",
       "5084     8011  Weather Underground, The (2002)   \n",
       "8400   110297       Muppets Most Wanted (2014)   \n",
       "2297     3044                Dead Again (1991)   \n",
       "8750   127323                      Vice (2015)   \n",
       "\n",
       "                                genres  \n",
       "7179                            Comedy  \n",
       "5084                       Documentary  \n",
       "8400            Adventure|Comedy|Crime  \n",
       "2297          Mystery|Romance|Thriller  \n",
       "8750  Action|Adventure|Sci-Fi|Thriller  "
      ]
     },
     "execution_count": 7,
     "metadata": {},
     "output_type": "execute_result"
    }
   ],
   "source": [
    "movies.sample(5)"
   ]
  },
  {
   "cell_type": "code",
   "execution_count": 8,
   "metadata": {},
   "outputs": [
    {
     "name": "stdout",
     "output_type": "stream",
     "text": [
      "<class 'pandas.core.frame.DataFrame'>\n",
      "RangeIndex: 9742 entries, 0 to 9741\n",
      "Data columns (total 3 columns):\n",
      " #   Column   Non-Null Count  Dtype \n",
      "---  ------   --------------  ----- \n",
      " 0   movieId  9742 non-null   int64 \n",
      " 1   title    9742 non-null   object\n",
      " 2   genres   9742 non-null   object\n",
      "dtypes: int64(1), object(2)\n",
      "memory usage: 228.5+ KB\n"
     ]
    },
    {
     "data": {
      "text/plain": [
       "((9742, 3), None, 9742)"
      ]
     },
     "execution_count": 8,
     "metadata": {},
     "output_type": "execute_result"
    }
   ],
   "source": [
    "movies.shape, movies.info(), len(movies['movieId'].unique().tolist())"
   ]
  },
  {
   "cell_type": "markdown",
   "metadata": {},
   "source": [
    "### 2.2 Load Ratings Data"
   ]
  },
  {
   "cell_type": "code",
   "execution_count": 9,
   "metadata": {},
   "outputs": [
    {
     "name": "stdout",
     "output_type": "stream",
     "text": [
      "we have 100836 ratings\n",
      "the number of unique users we have is: 610\n",
      "the number of unique movies we have is: 9724\n",
      "The median user rated 70 books.\n",
      "The max rating is: 5 the min rating is: 0\n"
     ]
    }
   ],
   "source": [
    "ratings.drop_duplicates(inplace=True)\n",
    "print('we have',ratings.shape[0], 'ratings')\n",
    "print('the number of unique users we have is:', len(ratings.userId.unique()))\n",
    "print('the number of unique movies we have is:', len(ratings.movieId.unique()))\n",
    "print(\"The median user rated %d books.\"%ratings.userId.value_counts().median())\n",
    "print('The max rating is: %d'%ratings.rating.max(),\"the min rating is: %d\"%ratings.rating.min())"
   ]
  },
  {
   "cell_type": "code",
   "execution_count": 10,
   "metadata": {},
   "outputs": [
    {
     "data": {
      "text/html": [
       "<div>\n",
       "<style scoped>\n",
       "    .dataframe tbody tr th:only-of-type {\n",
       "        vertical-align: middle;\n",
       "    }\n",
       "\n",
       "    .dataframe tbody tr th {\n",
       "        vertical-align: top;\n",
       "    }\n",
       "\n",
       "    .dataframe thead th {\n",
       "        text-align: right;\n",
       "    }\n",
       "</style>\n",
       "<table border=\"1\" class=\"dataframe\">\n",
       "  <thead>\n",
       "    <tr style=\"text-align: right;\">\n",
       "      <th></th>\n",
       "      <th>userId</th>\n",
       "      <th>movieId</th>\n",
       "      <th>rating</th>\n",
       "      <th>timestamp</th>\n",
       "    </tr>\n",
       "  </thead>\n",
       "  <tbody>\n",
       "    <tr>\n",
       "      <th>8792</th>\n",
       "      <td>62</td>\n",
       "      <td>6</td>\n",
       "      <td>4.5</td>\n",
       "      <td>1522190219</td>\n",
       "    </tr>\n",
       "    <tr>\n",
       "      <th>100368</th>\n",
       "      <td>610</td>\n",
       "      <td>67168</td>\n",
       "      <td>3.5</td>\n",
       "      <td>1493848745</td>\n",
       "    </tr>\n",
       "    <tr>\n",
       "      <th>43824</th>\n",
       "      <td>292</td>\n",
       "      <td>70286</td>\n",
       "      <td>2.0</td>\n",
       "      <td>1483193915</td>\n",
       "    </tr>\n",
       "    <tr>\n",
       "      <th>38554</th>\n",
       "      <td>265</td>\n",
       "      <td>1225</td>\n",
       "      <td>4.0</td>\n",
       "      <td>965316167</td>\n",
       "    </tr>\n",
       "    <tr>\n",
       "      <th>13099</th>\n",
       "      <td>84</td>\n",
       "      <td>105</td>\n",
       "      <td>3.0</td>\n",
       "      <td>858771931</td>\n",
       "    </tr>\n",
       "  </tbody>\n",
       "</table>\n",
       "</div>"
      ],
      "text/plain": [
       "        userId  movieId  rating   timestamp\n",
       "8792        62        6     4.5  1522190219\n",
       "100368     610    67168     3.5  1493848745\n",
       "43824      292    70286     2.0  1483193915\n",
       "38554      265     1225     4.0   965316167\n",
       "13099       84      105     3.0   858771931"
      ]
     },
     "execution_count": 10,
     "metadata": {},
     "output_type": "execute_result"
    }
   ],
   "source": [
    "ratings.sample(5)"
   ]
  },
  {
   "cell_type": "code",
   "execution_count": 11,
   "metadata": {
    "scrolled": true
   },
   "outputs": [
    {
     "name": "stdout",
     "output_type": "stream",
     "text": [
      "<class 'pandas.core.frame.DataFrame'>\n",
      "Int64Index: 100836 entries, 0 to 100835\n",
      "Data columns (total 4 columns):\n",
      " #   Column     Non-Null Count   Dtype  \n",
      "---  ------     --------------   -----  \n",
      " 0   userId     100836 non-null  int64  \n",
      " 1   movieId    100836 non-null  int64  \n",
      " 2   rating     100836 non-null  float64\n",
      " 3   timestamp  100836 non-null  int64  \n",
      "dtypes: float64(1), int64(3)\n",
      "memory usage: 3.8 MB\n"
     ]
    },
    {
     "data": {
      "text/plain": [
       "((100836, 4), '\\n', None, '\\n', 9724, '\\n', 610)"
      ]
     },
     "execution_count": 11,
     "metadata": {},
     "output_type": "execute_result"
    }
   ],
   "source": [
    "ratings.shape, \"\\n\", ratings.info(), \"\\n\", len(ratings['movieId'].unique().tolist()), \"\\n\", len(ratings['userId'].unique().tolist())\n",
    "# ratings.describe()"
   ]
  },
  {
   "cell_type": "markdown",
   "metadata": {},
   "source": [
    "### 2.3 Load Tags Data"
   ]
  },
  {
   "cell_type": "code",
   "execution_count": 12,
   "metadata": {
    "scrolled": true
   },
   "outputs": [
    {
     "data": {
      "text/html": [
       "<div>\n",
       "<style scoped>\n",
       "    .dataframe tbody tr th:only-of-type {\n",
       "        vertical-align: middle;\n",
       "    }\n",
       "\n",
       "    .dataframe tbody tr th {\n",
       "        vertical-align: top;\n",
       "    }\n",
       "\n",
       "    .dataframe thead th {\n",
       "        text-align: right;\n",
       "    }\n",
       "</style>\n",
       "<table border=\"1\" class=\"dataframe\">\n",
       "  <thead>\n",
       "    <tr style=\"text-align: right;\">\n",
       "      <th></th>\n",
       "      <th>userId</th>\n",
       "      <th>movieId</th>\n",
       "      <th>tag</th>\n",
       "      <th>timestamp</th>\n",
       "    </tr>\n",
       "  </thead>\n",
       "  <tbody>\n",
       "    <tr>\n",
       "      <th>435</th>\n",
       "      <td>125</td>\n",
       "      <td>3052</td>\n",
       "      <td>irreverent</td>\n",
       "      <td>1474592072</td>\n",
       "    </tr>\n",
       "    <tr>\n",
       "      <th>2134</th>\n",
       "      <td>474</td>\n",
       "      <td>6380</td>\n",
       "      <td>child abuse</td>\n",
       "      <td>1137205738</td>\n",
       "    </tr>\n",
       "    <tr>\n",
       "      <th>3397</th>\n",
       "      <td>599</td>\n",
       "      <td>296</td>\n",
       "      <td>big boys with guns</td>\n",
       "      <td>1498456673</td>\n",
       "    </tr>\n",
       "    <tr>\n",
       "      <th>3436</th>\n",
       "      <td>599</td>\n",
       "      <td>296</td>\n",
       "      <td>ensemble cast</td>\n",
       "      <td>1498456419</td>\n",
       "    </tr>\n",
       "    <tr>\n",
       "      <th>80</th>\n",
       "      <td>62</td>\n",
       "      <td>4223</td>\n",
       "      <td>Ed Harris</td>\n",
       "      <td>1528024869</td>\n",
       "    </tr>\n",
       "  </tbody>\n",
       "</table>\n",
       "</div>"
      ],
      "text/plain": [
       "      userId  movieId                 tag   timestamp\n",
       "435      125     3052          irreverent  1474592072\n",
       "2134     474     6380         child abuse  1137205738\n",
       "3397     599      296  big boys with guns  1498456673\n",
       "3436     599      296       ensemble cast  1498456419\n",
       "80        62     4223           Ed Harris  1528024869"
      ]
     },
     "execution_count": 12,
     "metadata": {},
     "output_type": "execute_result"
    }
   ],
   "source": [
    "tags.sample(5)"
   ]
  },
  {
   "cell_type": "code",
   "execution_count": 13,
   "metadata": {},
   "outputs": [
    {
     "name": "stdout",
     "output_type": "stream",
     "text": [
      "<class 'pandas.core.frame.DataFrame'>\n",
      "RangeIndex: 3683 entries, 0 to 3682\n",
      "Data columns (total 4 columns):\n",
      " #   Column     Non-Null Count  Dtype \n",
      "---  ------     --------------  ----- \n",
      " 0   userId     3683 non-null   int64 \n",
      " 1   movieId    3683 non-null   int64 \n",
      " 2   tag        3683 non-null   object\n",
      " 3   timestamp  3683 non-null   int64 \n",
      "dtypes: int64(3), object(1)\n",
      "memory usage: 115.2+ KB\n"
     ]
    },
    {
     "data": {
      "text/plain": [
       "((3683, 4), '\\n', None, 1589)"
      ]
     },
     "execution_count": 13,
     "metadata": {},
     "output_type": "execute_result"
    }
   ],
   "source": [
    "tags.shape, \"\\n\", tags.info(), len(tags['tag'].unique().tolist())"
   ]
  },
  {
   "cell_type": "markdown",
   "metadata": {},
   "source": [
    "## 3.Cleaning of data"
   ]
  },
  {
   "cell_type": "code",
   "execution_count": 14,
   "metadata": {},
   "outputs": [
    {
     "data": {
      "text/plain": [
       "(movieId    False\n",
       " title      False\n",
       " genres     False\n",
       " dtype: bool,\n",
       " ' ',\n",
       " userId       False\n",
       " movieId      False\n",
       " rating       False\n",
       " timestamp    False\n",
       " dtype: bool,\n",
       " ' ',\n",
       " userId       False\n",
       " movieId      False\n",
       " tag          False\n",
       " timestamp    False\n",
       " dtype: bool)"
      ]
     },
     "execution_count": 14,
     "metadata": {},
     "output_type": "execute_result"
    }
   ],
   "source": [
    "movies.isnull().any(), \" \", ratings.isnull().any(), \" \", tags.isnull().any()\n",
    "\n",
    "# # lets drop null rows\n",
    "# tags=tags.dropna()"
   ]
  },
  {
   "cell_type": "markdown",
   "metadata": {},
   "source": [
    "## 4.Data Analysis"
   ]
  },
  {
   "cell_type": "markdown",
   "metadata": {},
   "source": [
    "### 4.1 Make dates more readable"
   ]
  },
  {
   "cell_type": "code",
   "execution_count": 15,
   "metadata": {},
   "outputs": [],
   "source": [
    "# https://stackoverflow.com/a/62968313/2049763\n",
    "def timestamp_to_date_converter(t):\n",
    "    # https://realpython.com/python-time-module/\n",
    "    return datetime.datetime.fromtimestamp(t).strftime(\"%A, %B %d, %Y %I:%M:%S\")"
   ]
  },
  {
   "cell_type": "code",
   "execution_count": 16,
   "metadata": {},
   "outputs": [],
   "source": [
    "ratings['date'] = ratings['timestamp'].apply(timestamp_to_date_converter)\n",
    "tags['date']    = tags['timestamp'].apply(timestamp_to_date_converter)"
   ]
  },
  {
   "cell_type": "code",
   "execution_count": 17,
   "metadata": {},
   "outputs": [
    {
     "data": {
      "text/html": [
       "<div>\n",
       "<style scoped>\n",
       "    .dataframe tbody tr th:only-of-type {\n",
       "        vertical-align: middle;\n",
       "    }\n",
       "\n",
       "    .dataframe tbody tr th {\n",
       "        vertical-align: top;\n",
       "    }\n",
       "\n",
       "    .dataframe thead th {\n",
       "        text-align: right;\n",
       "    }\n",
       "</style>\n",
       "<table border=\"1\" class=\"dataframe\">\n",
       "  <thead>\n",
       "    <tr style=\"text-align: right;\">\n",
       "      <th></th>\n",
       "      <th>userId</th>\n",
       "      <th>movieId</th>\n",
       "      <th>rating</th>\n",
       "      <th>timestamp</th>\n",
       "      <th>date</th>\n",
       "    </tr>\n",
       "  </thead>\n",
       "  <tbody>\n",
       "    <tr>\n",
       "      <th>81475</th>\n",
       "      <td>514</td>\n",
       "      <td>187031</td>\n",
       "      <td>2.5</td>\n",
       "      <td>1537674927</td>\n",
       "      <td>Saturday, September 22, 2018 10:55:27</td>\n",
       "    </tr>\n",
       "    <tr>\n",
       "      <th>81477</th>\n",
       "      <td>514</td>\n",
       "      <td>187595</td>\n",
       "      <td>3.0</td>\n",
       "      <td>1537674946</td>\n",
       "      <td>Saturday, September 22, 2018 10:55:46</td>\n",
       "    </tr>\n",
       "    <tr>\n",
       "      <th>81336</th>\n",
       "      <td>514</td>\n",
       "      <td>5247</td>\n",
       "      <td>2.5</td>\n",
       "      <td>1537757040</td>\n",
       "      <td>Sunday, September 23, 2018 09:44:00</td>\n",
       "    </tr>\n",
       "    <tr>\n",
       "      <th>81335</th>\n",
       "      <td>514</td>\n",
       "      <td>5246</td>\n",
       "      <td>1.5</td>\n",
       "      <td>1537757059</td>\n",
       "      <td>Sunday, September 23, 2018 09:44:19</td>\n",
       "    </tr>\n",
       "    <tr>\n",
       "      <th>81092</th>\n",
       "      <td>514</td>\n",
       "      <td>162</td>\n",
       "      <td>4.0</td>\n",
       "      <td>1537799250</td>\n",
       "      <td>Monday, September 24, 2018 09:27:30</td>\n",
       "    </tr>\n",
       "  </tbody>\n",
       "</table>\n",
       "</div>"
      ],
      "text/plain": [
       "       userId  movieId  rating   timestamp  \\\n",
       "81475     514   187031     2.5  1537674927   \n",
       "81477     514   187595     3.0  1537674946   \n",
       "81336     514     5247     2.5  1537757040   \n",
       "81335     514     5246     1.5  1537757059   \n",
       "81092     514      162     4.0  1537799250   \n",
       "\n",
       "                                        date  \n",
       "81475  Saturday, September 22, 2018 10:55:27  \n",
       "81477  Saturday, September 22, 2018 10:55:46  \n",
       "81336    Sunday, September 23, 2018 09:44:00  \n",
       "81335    Sunday, September 23, 2018 09:44:19  \n",
       "81092    Monday, September 24, 2018 09:27:30  "
      ]
     },
     "execution_count": 17,
     "metadata": {},
     "output_type": "execute_result"
    }
   ],
   "source": [
    "ratings.sort_values(by=['timestamp'], ascending=True).tail(5)"
   ]
  },
  {
   "cell_type": "code",
   "execution_count": 18,
   "metadata": {},
   "outputs": [],
   "source": [
    "s = \"01/01/2018\"\n",
    "t = time.mktime(datetime.datetime.strptime(s, \"%m/%d/%Y\").timetuple())"
   ]
  },
  {
   "cell_type": "code",
   "execution_count": 19,
   "metadata": {},
   "outputs": [
    {
     "data": {
      "text/html": [
       "<div>\n",
       "<style scoped>\n",
       "    .dataframe tbody tr th:only-of-type {\n",
       "        vertical-align: middle;\n",
       "    }\n",
       "\n",
       "    .dataframe tbody tr th {\n",
       "        vertical-align: top;\n",
       "    }\n",
       "\n",
       "    .dataframe thead th {\n",
       "        text-align: right;\n",
       "    }\n",
       "</style>\n",
       "<table border=\"1\" class=\"dataframe\">\n",
       "  <thead>\n",
       "    <tr style=\"text-align: right;\">\n",
       "      <th></th>\n",
       "      <th>userId</th>\n",
       "      <th>movieId</th>\n",
       "      <th>rating</th>\n",
       "      <th>timestamp</th>\n",
       "      <th>date</th>\n",
       "    </tr>\n",
       "  </thead>\n",
       "  <tbody>\n",
       "    <tr>\n",
       "      <th>7181</th>\n",
       "      <td>50</td>\n",
       "      <td>2420</td>\n",
       "      <td>2.5</td>\n",
       "      <td>1514842717</td>\n",
       "      <td>Monday, January 01, 2018 03:38:37</td>\n",
       "    </tr>\n",
       "    <tr>\n",
       "      <th>7357</th>\n",
       "      <td>50</td>\n",
       "      <td>117529</td>\n",
       "      <td>1.5</td>\n",
       "      <td>1514842744</td>\n",
       "      <td>Monday, January 01, 2018 03:39:04</td>\n",
       "    </tr>\n",
       "    <tr>\n",
       "      <th>7360</th>\n",
       "      <td>50</td>\n",
       "      <td>122904</td>\n",
       "      <td>1.5</td>\n",
       "      <td>1514891080</td>\n",
       "      <td>Tuesday, January 02, 2018 05:04:40</td>\n",
       "    </tr>\n",
       "    <tr>\n",
       "      <th>7299</th>\n",
       "      <td>50</td>\n",
       "      <td>72998</td>\n",
       "      <td>2.0</td>\n",
       "      <td>1514891142</td>\n",
       "      <td>Tuesday, January 02, 2018 05:05:42</td>\n",
       "    </tr>\n",
       "    <tr>\n",
       "      <th>7291</th>\n",
       "      <td>50</td>\n",
       "      <td>63312</td>\n",
       "      <td>2.0</td>\n",
       "      <td>1514891165</td>\n",
       "      <td>Tuesday, January 02, 2018 05:06:05</td>\n",
       "    </tr>\n",
       "  </tbody>\n",
       "</table>\n",
       "</div>"
      ],
      "text/plain": [
       "      userId  movieId  rating   timestamp                                date\n",
       "7181      50     2420     2.5  1514842717   Monday, January 01, 2018 03:38:37\n",
       "7357      50   117529     1.5  1514842744   Monday, January 01, 2018 03:39:04\n",
       "7360      50   122904     1.5  1514891080  Tuesday, January 02, 2018 05:04:40\n",
       "7299      50    72998     2.0  1514891142  Tuesday, January 02, 2018 05:05:42\n",
       "7291      50    63312     2.0  1514891165  Tuesday, January 02, 2018 05:06:05"
      ]
     },
     "execution_count": 19,
     "metadata": {},
     "output_type": "execute_result"
    }
   ],
   "source": [
    "ratings.loc[ratings.timestamp>t].sort_values(by=['timestamp'], ascending=True).head(5)"
   ]
  },
  {
   "cell_type": "code",
   "execution_count": 20,
   "metadata": {
    "scrolled": true
   },
   "outputs": [
    {
     "data": {
      "text/plain": [
       "(6413, 5)"
      ]
     },
     "execution_count": 20,
     "metadata": {},
     "output_type": "execute_result"
    }
   ],
   "source": [
    "ratings.loc[ratings.timestamp>t].sort_values(by=['timestamp'], ascending=True).shape"
   ]
  },
  {
   "cell_type": "markdown",
   "metadata": {},
   "source": [
    "### 4.2 Reading Movie Release Year"
   ]
  },
  {
   "cell_type": "code",
   "execution_count": 21,
   "metadata": {},
   "outputs": [],
   "source": [
    "# https://stackoverflow.com/a/8569258\n",
    "def title_to_release_year(s):\n",
    "    m = re.findall(r\"\\(([0-9]+)\\)\", s)\n",
    "    \n",
    "    # https://www.guru99.com/python-regular-expressions-complete-tutorial.html\n",
    "    if m is None or len(m) <= 0:\n",
    "        return None        \n",
    "    return m[-1]"
   ]
  },
  {
   "cell_type": "code",
   "execution_count": 22,
   "metadata": {},
   "outputs": [],
   "source": [
    "movies['year']  = movies['title'].apply(title_to_release_year)"
   ]
  },
  {
   "cell_type": "code",
   "execution_count": 23,
   "metadata": {
    "scrolled": true
   },
   "outputs": [
    {
     "data": {
      "text/html": [
       "<div>\n",
       "<style scoped>\n",
       "    .dataframe tbody tr th:only-of-type {\n",
       "        vertical-align: middle;\n",
       "    }\n",
       "\n",
       "    .dataframe tbody tr th {\n",
       "        vertical-align: top;\n",
       "    }\n",
       "\n",
       "    .dataframe thead th {\n",
       "        text-align: right;\n",
       "    }\n",
       "</style>\n",
       "<table border=\"1\" class=\"dataframe\">\n",
       "  <thead>\n",
       "    <tr style=\"text-align: right;\">\n",
       "      <th></th>\n",
       "      <th>movieId</th>\n",
       "      <th>title</th>\n",
       "      <th>genres</th>\n",
       "      <th>year</th>\n",
       "    </tr>\n",
       "  </thead>\n",
       "  <tbody>\n",
       "    <tr>\n",
       "      <th>983</th>\n",
       "      <td>1284</td>\n",
       "      <td>Big Sleep, The (1946)</td>\n",
       "      <td>Crime|Film-Noir|Mystery</td>\n",
       "      <td>1946</td>\n",
       "    </tr>\n",
       "    <tr>\n",
       "      <th>8727</th>\n",
       "      <td>127052</td>\n",
       "      <td>Operation 'Y' &amp; Other Shurik's Adventures (1965)</td>\n",
       "      <td>Comedy|Crime|Romance</td>\n",
       "      <td>1965</td>\n",
       "    </tr>\n",
       "    <tr>\n",
       "      <th>3013</th>\n",
       "      <td>4031</td>\n",
       "      <td>All the Pretty Horses (2000)</td>\n",
       "      <td>Drama|Romance|Western</td>\n",
       "      <td>2000</td>\n",
       "    </tr>\n",
       "    <tr>\n",
       "      <th>4356</th>\n",
       "      <td>6373</td>\n",
       "      <td>Bruce Almighty (2003)</td>\n",
       "      <td>Comedy|Drama|Fantasy|Romance</td>\n",
       "      <td>2003</td>\n",
       "    </tr>\n",
       "    <tr>\n",
       "      <th>2166</th>\n",
       "      <td>2882</td>\n",
       "      <td>Jakob the Liar (1999)</td>\n",
       "      <td>Drama</td>\n",
       "      <td>1999</td>\n",
       "    </tr>\n",
       "  </tbody>\n",
       "</table>\n",
       "</div>"
      ],
      "text/plain": [
       "      movieId                                             title  \\\n",
       "983      1284                             Big Sleep, The (1946)   \n",
       "8727   127052  Operation 'Y' & Other Shurik's Adventures (1965)   \n",
       "3013     4031                      All the Pretty Horses (2000)   \n",
       "4356     6373                             Bruce Almighty (2003)   \n",
       "2166     2882                             Jakob the Liar (1999)   \n",
       "\n",
       "                            genres  year  \n",
       "983        Crime|Film-Noir|Mystery  1946  \n",
       "8727          Comedy|Crime|Romance  1965  \n",
       "3013         Drama|Romance|Western  2000  \n",
       "4356  Comedy|Drama|Fantasy|Romance  2003  \n",
       "2166                         Drama  1999  "
      ]
     },
     "execution_count": 23,
     "metadata": {},
     "output_type": "execute_result"
    }
   ],
   "source": [
    "movies.sample(5)"
   ]
  },
  {
   "cell_type": "code",
   "execution_count": 24,
   "metadata": {},
   "outputs": [
    {
     "data": {
      "text/plain": [
       "movieId    False\n",
       "title      False\n",
       "genres     False\n",
       "year        True\n",
       "dtype: bool"
      ]
     },
     "execution_count": 24,
     "metadata": {},
     "output_type": "execute_result"
    }
   ],
   "source": [
    "movies.isnull().any()"
   ]
  },
  {
   "cell_type": "code",
   "execution_count": 25,
   "metadata": {
    "scrolled": true
   },
   "outputs": [
    {
     "data": {
      "text/html": [
       "<div>\n",
       "<style scoped>\n",
       "    .dataframe tbody tr th:only-of-type {\n",
       "        vertical-align: middle;\n",
       "    }\n",
       "\n",
       "    .dataframe tbody tr th {\n",
       "        vertical-align: top;\n",
       "    }\n",
       "\n",
       "    .dataframe thead th {\n",
       "        text-align: right;\n",
       "    }\n",
       "</style>\n",
       "<table border=\"1\" class=\"dataframe\">\n",
       "  <thead>\n",
       "    <tr style=\"text-align: right;\">\n",
       "      <th></th>\n",
       "      <th>movieId</th>\n",
       "      <th>title</th>\n",
       "      <th>genres</th>\n",
       "      <th>year</th>\n",
       "    </tr>\n",
       "  </thead>\n",
       "  <tbody>\n",
       "    <tr>\n",
       "      <th>6059</th>\n",
       "      <td>40697</td>\n",
       "      <td>Babylon 5</td>\n",
       "      <td>Sci-Fi</td>\n",
       "      <td>None</td>\n",
       "    </tr>\n",
       "    <tr>\n",
       "      <th>9031</th>\n",
       "      <td>140956</td>\n",
       "      <td>Ready Player One</td>\n",
       "      <td>Action|Sci-Fi|Thriller</td>\n",
       "      <td>None</td>\n",
       "    </tr>\n",
       "    <tr>\n",
       "      <th>9091</th>\n",
       "      <td>143410</td>\n",
       "      <td>Hyena Road</td>\n",
       "      <td>(no genres listed)</td>\n",
       "      <td>None</td>\n",
       "    </tr>\n",
       "    <tr>\n",
       "      <th>9138</th>\n",
       "      <td>147250</td>\n",
       "      <td>The Adventures of Sherlock Holmes and Doctor W...</td>\n",
       "      <td>(no genres listed)</td>\n",
       "      <td>None</td>\n",
       "    </tr>\n",
       "    <tr>\n",
       "      <th>9179</th>\n",
       "      <td>149334</td>\n",
       "      <td>Nocturnal Animals</td>\n",
       "      <td>Drama|Thriller</td>\n",
       "      <td>None</td>\n",
       "    </tr>\n",
       "    <tr>\n",
       "      <th>9259</th>\n",
       "      <td>156605</td>\n",
       "      <td>Paterson</td>\n",
       "      <td>(no genres listed)</td>\n",
       "      <td>None</td>\n",
       "    </tr>\n",
       "    <tr>\n",
       "      <th>9367</th>\n",
       "      <td>162414</td>\n",
       "      <td>Moonlight</td>\n",
       "      <td>Drama</td>\n",
       "      <td>None</td>\n",
       "    </tr>\n",
       "    <tr>\n",
       "      <th>9448</th>\n",
       "      <td>167570</td>\n",
       "      <td>The OA</td>\n",
       "      <td>(no genres listed)</td>\n",
       "      <td>None</td>\n",
       "    </tr>\n",
       "    <tr>\n",
       "      <th>9514</th>\n",
       "      <td>171495</td>\n",
       "      <td>Cosmos</td>\n",
       "      <td>(no genres listed)</td>\n",
       "      <td>None</td>\n",
       "    </tr>\n",
       "    <tr>\n",
       "      <th>9515</th>\n",
       "      <td>171631</td>\n",
       "      <td>Maria Bamford: Old Baby</td>\n",
       "      <td>(no genres listed)</td>\n",
       "      <td>None</td>\n",
       "    </tr>\n",
       "    <tr>\n",
       "      <th>9518</th>\n",
       "      <td>171749</td>\n",
       "      <td>Death Note: Desu nôto (2006–2007)</td>\n",
       "      <td>(no genres listed)</td>\n",
       "      <td>None</td>\n",
       "    </tr>\n",
       "    <tr>\n",
       "      <th>9525</th>\n",
       "      <td>171891</td>\n",
       "      <td>Generation Iron 2</td>\n",
       "      <td>(no genres listed)</td>\n",
       "      <td>None</td>\n",
       "    </tr>\n",
       "    <tr>\n",
       "      <th>9611</th>\n",
       "      <td>176601</td>\n",
       "      <td>Black Mirror</td>\n",
       "      <td>(no genres listed)</td>\n",
       "      <td>None</td>\n",
       "    </tr>\n",
       "  </tbody>\n",
       "</table>\n",
       "</div>"
      ],
      "text/plain": [
       "      movieId                                              title  \\\n",
       "6059    40697                                          Babylon 5   \n",
       "9031   140956                                   Ready Player One   \n",
       "9091   143410                                         Hyena Road   \n",
       "9138   147250  The Adventures of Sherlock Holmes and Doctor W...   \n",
       "9179   149334                                  Nocturnal Animals   \n",
       "9259   156605                                           Paterson   \n",
       "9367   162414                                          Moonlight   \n",
       "9448   167570                                             The OA   \n",
       "9514   171495                                             Cosmos   \n",
       "9515   171631                            Maria Bamford: Old Baby   \n",
       "9518   171749                  Death Note: Desu nôto (2006–2007)   \n",
       "9525   171891                                  Generation Iron 2   \n",
       "9611   176601                                       Black Mirror   \n",
       "\n",
       "                      genres  year  \n",
       "6059                  Sci-Fi  None  \n",
       "9031  Action|Sci-Fi|Thriller  None  \n",
       "9091      (no genres listed)  None  \n",
       "9138      (no genres listed)  None  \n",
       "9179          Drama|Thriller  None  \n",
       "9259      (no genres listed)  None  \n",
       "9367                   Drama  None  \n",
       "9448      (no genres listed)  None  \n",
       "9514      (no genres listed)  None  \n",
       "9515      (no genres listed)  None  \n",
       "9518      (no genres listed)  None  \n",
       "9525      (no genres listed)  None  \n",
       "9611      (no genres listed)  None  "
      ]
     },
     "execution_count": 25,
     "metadata": {},
     "output_type": "execute_result"
    }
   ],
   "source": [
    "# https://datatofish.com/rows-with-nan-pandas-dataframe/\n",
    "movies[movies.isnull().any(axis=1)]"
   ]
  },
  {
   "cell_type": "code",
   "execution_count": 26,
   "metadata": {},
   "outputs": [],
   "source": [
    "movies = movies.dropna()"
   ]
  },
  {
   "cell_type": "markdown",
   "metadata": {},
   "source": [
    "### 4.3 Preparing ratings data"
   ]
  },
  {
   "cell_type": "code",
   "execution_count": 27,
   "metadata": {
    "scrolled": true
   },
   "outputs": [
    {
     "name": "stdout",
     "output_type": "stream",
     "text": [
      "<class 'pandas.core.frame.DataFrame'>\n",
      "Int64Index: 100836 entries, 0 to 100835\n",
      "Data columns (total 5 columns):\n",
      " #   Column     Non-Null Count   Dtype  \n",
      "---  ------     --------------   -----  \n",
      " 0   userId     100836 non-null  int16  \n",
      " 1   movieId    100836 non-null  int16  \n",
      " 2   rating     100836 non-null  float64\n",
      " 3   timestamp  100836 non-null  int64  \n",
      " 4   date       100836 non-null  object \n",
      "dtypes: float64(1), int16(2), int64(1), object(1)\n",
      "memory usage: 3.5+ MB\n"
     ]
    },
    {
     "data": {
      "text/plain": [
       "(None,\n",
       " 575      20\n",
       " 52       20\n",
       " 430      20\n",
       " 193      20\n",
       " 405      20\n",
       "        ... \n",
       " 273    1346\n",
       " 447    1864\n",
       " 473    2108\n",
       " 598    2478\n",
       " 413    2698\n",
       " Name: userId, Length: 610, dtype: int64)"
      ]
     },
     "execution_count": 27,
     "metadata": {},
     "output_type": "execute_result"
    }
   ],
   "source": [
    "ratings.userId = ratings.userId.astype('category').cat.codes.values\n",
    "ratings.movieId = ratings.movieId.astype('category').cat.codes.values\n",
    "\n",
    "ratings.info(), ratings['userId'].value_counts(ascending=True)"
   ]
  },
  {
   "cell_type": "markdown",
   "metadata": {},
   "source": [
    "## 5. Basic Recomendation \n",
    "\n",
    "https://www.kaggle.com/rajmehra03/cf-based-recsys-by-low-rank-matrix-factorization"
   ]
  },
  {
   "cell_type": "code",
   "execution_count": 28,
   "metadata": {},
   "outputs": [
    {
     "data": {
      "text/plain": [
       "((67160, 8),\n",
       " '# ============== #',\n",
       " userId       False\n",
       " movieId      False\n",
       " rating       False\n",
       " timestamp    False\n",
       " date         False\n",
       " dtype: bool)"
      ]
     },
     "execution_count": 28,
     "metadata": {},
     "output_type": "execute_result"
    }
   ],
   "source": [
    "# https://stackoverflow.com/a/39881230\n",
    "# ratings =  ratings.loc[ratings.movieId.isin(movies.movieId)] \n",
    "\n",
    "movies_ratings = ratings.merge(movies, on = 'movieId', how = 'inner')\n",
    "movies_ratings.shape, '# ============== #', ratings.isnull().any()"
   ]
  },
  {
   "cell_type": "code",
   "execution_count": 29,
   "metadata": {
    "scrolled": false
   },
   "outputs": [
    {
     "data": {
      "text/html": [
       "<div>\n",
       "<style scoped>\n",
       "    .dataframe tbody tr th:only-of-type {\n",
       "        vertical-align: middle;\n",
       "    }\n",
       "\n",
       "    .dataframe tbody tr th {\n",
       "        vertical-align: top;\n",
       "    }\n",
       "\n",
       "    .dataframe thead th {\n",
       "        text-align: right;\n",
       "    }\n",
       "</style>\n",
       "<table border=\"1\" class=\"dataframe\">\n",
       "  <thead>\n",
       "    <tr style=\"text-align: right;\">\n",
       "      <th></th>\n",
       "      <th>userId</th>\n",
       "      <th>movieId</th>\n",
       "      <th>rating</th>\n",
       "      <th>timestamp</th>\n",
       "      <th>date</th>\n",
       "      <th>title</th>\n",
       "      <th>genres</th>\n",
       "      <th>year</th>\n",
       "    </tr>\n",
       "  </thead>\n",
       "  <tbody>\n",
       "    <tr>\n",
       "      <th>40402</th>\n",
       "      <td>482</td>\n",
       "      <td>7065</td>\n",
       "      <td>5.0</td>\n",
       "      <td>1256431709</td>\n",
       "      <td>Saturday, October 24, 2009 07:48:29</td>\n",
       "      <td>Birth of a Nation, The (1915)</td>\n",
       "      <td>Drama|War</td>\n",
       "      <td>1915</td>\n",
       "    </tr>\n",
       "    <tr>\n",
       "      <th>40398</th>\n",
       "      <td>380</td>\n",
       "      <td>7065</td>\n",
       "      <td>3.5</td>\n",
       "      <td>1263398689</td>\n",
       "      <td>Wednesday, January 13, 2010 10:04:49</td>\n",
       "      <td>Birth of a Nation, The (1915)</td>\n",
       "      <td>Drama|War</td>\n",
       "      <td>1915</td>\n",
       "    </tr>\n",
       "    <tr>\n",
       "      <th>40401</th>\n",
       "      <td>476</td>\n",
       "      <td>7065</td>\n",
       "      <td>4.0</td>\n",
       "      <td>1268551277</td>\n",
       "      <td>Sunday, March 14, 2010 01:21:17</td>\n",
       "      <td>Birth of a Nation, The (1915)</td>\n",
       "      <td>Drama|War</td>\n",
       "      <td>1915</td>\n",
       "    </tr>\n",
       "    <tr>\n",
       "      <th>40399</th>\n",
       "      <td>413</td>\n",
       "      <td>7065</td>\n",
       "      <td>4.5</td>\n",
       "      <td>1273977081</td>\n",
       "      <td>Saturday, May 15, 2010 09:31:21</td>\n",
       "      <td>Birth of a Nation, The (1915)</td>\n",
       "      <td>Drama|War</td>\n",
       "      <td>1915</td>\n",
       "    </tr>\n",
       "    <tr>\n",
       "      <th>40394</th>\n",
       "      <td>273</td>\n",
       "      <td>7065</td>\n",
       "      <td>4.0</td>\n",
       "      <td>1285018440</td>\n",
       "      <td>Monday, September 20, 2010 04:34:00</td>\n",
       "      <td>Birth of a Nation, The (1915)</td>\n",
       "      <td>Drama|War</td>\n",
       "      <td>1915</td>\n",
       "    </tr>\n",
       "  </tbody>\n",
       "</table>\n",
       "</div>"
      ],
      "text/plain": [
       "       userId  movieId  rating   timestamp  \\\n",
       "40402     482     7065     5.0  1256431709   \n",
       "40398     380     7065     3.5  1263398689   \n",
       "40401     476     7065     4.0  1268551277   \n",
       "40399     413     7065     4.5  1273977081   \n",
       "40394     273     7065     4.0  1285018440   \n",
       "\n",
       "                                       date                          title  \\\n",
       "40402   Saturday, October 24, 2009 07:48:29  Birth of a Nation, The (1915)   \n",
       "40398  Wednesday, January 13, 2010 10:04:49  Birth of a Nation, The (1915)   \n",
       "40401       Sunday, March 14, 2010 01:21:17  Birth of a Nation, The (1915)   \n",
       "40399       Saturday, May 15, 2010 09:31:21  Birth of a Nation, The (1915)   \n",
       "40394   Monday, September 20, 2010 04:34:00  Birth of a Nation, The (1915)   \n",
       "\n",
       "          genres  year  \n",
       "40402  Drama|War  1915  \n",
       "40398  Drama|War  1915  \n",
       "40401  Drama|War  1915  \n",
       "40399  Drama|War  1915  \n",
       "40394  Drama|War  1915  "
      ]
     },
     "execution_count": 29,
     "metadata": {},
     "output_type": "execute_result"
    }
   ],
   "source": [
    "movies_ratings = movies_ratings.sort_values(['year', 'timestamp'], ascending=[True, True])\n",
    "movies_ratings.head(5)"
   ]
  },
  {
   "cell_type": "markdown",
   "metadata": {},
   "source": [
    "### 5.1 Data loading using Surprise"
   ]
  },
  {
   "cell_type": "code",
   "execution_count": 30,
   "metadata": {},
   "outputs": [],
   "source": [
    "import surprise"
   ]
  },
  {
   "cell_type": "code",
   "execution_count": 31,
   "metadata": {},
   "outputs": [],
   "source": [
    "#swapping columns\n",
    "raw=movies_ratings[['userId','movieId','rating']] \n",
    "# when importing from a DF, you only need to specify the scale of the ratings.\n",
    "reader = surprise.Reader(rating_scale=(1,5)) \n",
    "#into surprise:\n",
    "data_movies_ratings = surprise.Dataset.load_from_df(raw,reader)"
   ]
  },
  {
   "cell_type": "markdown",
   "metadata": {},
   "source": [
    "### 5.2 Model"
   ]
  },
  {
   "cell_type": "code",
   "execution_count": 32,
   "metadata": {},
   "outputs": [],
   "source": [
    "class ProbabilisticMatrixFactorization(surprise.AlgoBase):\n",
    "# Randomly initializes two Matrices, Stochastic Gradient Descent to be able to optimize the best factorization for ratings.\n",
    "    def __init__(self,learning_rate,num_epochs,num_factors):\n",
    "       # super(surprise.AlgoBase)\n",
    "        self.alpha = learning_rate #learning rate for Stochastic Gradient Descent\n",
    "        self.num_epochs = num_epochs\n",
    "        self.num_factors = num_factors\n",
    "    \n",
    "    def fit(self,train):\n",
    "        #randomly initialize user/item factors from a Gaussian\n",
    "        P = np.random.normal(0,.1,(train.n_users,self.num_factors))\n",
    "        Q = np.random.normal(0,.1,(train.n_items,self.num_factors))\n",
    "        #print('fit')\n",
    "\n",
    "        for epoch in range(self.num_epochs):\n",
    "            for u,i,r_ui in train.all_ratings():\n",
    "                residual = r_ui - np.dot(P[u],Q[i])\n",
    "                temp = P[u,:] # we want to update them at the same time, so we make a temporary variable. \n",
    "                P[u,:] +=  self.alpha * residual * Q[i]\n",
    "                Q[i,:] +=  self.alpha * residual * temp \n",
    "\n",
    "                \n",
    "        self.P = P\n",
    "        self.Q = Q\n",
    "\n",
    "        self.trainset = train\n",
    "    \n",
    "    \n",
    "    def estimate(self,u,i):\n",
    "        # returns estimated rating for user u and item i. \n",
    "        # Prerequisite: Algorithm must be fit to training set.\n",
    "        # check to see if u and i are in the train set:\n",
    "        # print('gahh')\n",
    "\n",
    "        if self.trainset.knows_user(u) and self.trainset.knows_item(i):\n",
    "            #print(u,i, '\\n','yep:', self.P[u],self.Q[i])\n",
    "            #return scalar product of P[u] and Q[i]\n",
    "            nanCheck = np.dot(self.P[u],self.Q[i])\n",
    "            \n",
    "            if np.isnan(nanCheck):\n",
    "                print('Got NaN error, returning the general average')\n",
    "                return self.trainset.global_mean\n",
    "            else:\n",
    "                return np.dot(self.P[u,:],self.Q[i,:])\n",
    "        else: # if its not known we'll return the general average. \n",
    "            print('its not known, returning the general average')\n",
    "            return self.trainset.global_mean"
   ]
  },
  {
   "cell_type": "code",
   "execution_count": 34,
   "metadata": {},
   "outputs": [],
   "source": [
    "gs = surprise.model_selection.GridSearchCV(ProbabilisticMatrixFactorization, \n",
    "                                           param_grid={'learning_rate':[0.005,0.01],\n",
    "                                                       'num_epochs':[5,10],\n",
    "                                                       'num_factors':[10,20]},\n",
    "                                           measures=['rmse', 'mae'], cv=2)\n",
    "\n",
    "gs.fit(data_movies_ratings)"
   ]
  },
  {
   "cell_type": "code",
   "execution_count": 41,
   "metadata": {
    "scrolled": true
   },
   "outputs": [
    {
     "name": "stdout",
     "output_type": "stream",
     "text": [
      "rsme: 1.0320173987352135 mae: 0.7880615061323057\n",
      "best_params \n",
      "{\n",
      "  rsme:  {'learning_rate': 0.01, 'num_epochs': 10, 'num_factors': 10} \n",
      "  mae:   {'learning_rate': 0.01, 'num_epochs': 10, 'num_factors': 10}  \n",
      "}\n"
     ]
    }
   ],
   "source": [
    "print('rsme:', gs.best_score['rmse'],'mae:',gs.best_score['mae'])\n",
    "\n",
    "best_params = gs.best_params['rmse']\n",
    "print('best_params \\n{\\n  rsme: ', gs.best_params['rmse'], '\\n  mae:  ', gs.best_params['mae'], \" \\n}\")"
   ]
  },
  {
   "cell_type": "markdown",
   "metadata": {},
   "source": [
    "### 5.2.1 Evaluating the Model Performance"
   ]
  },
  {
   "cell_type": "code",
   "execution_count": 36,
   "metadata": {
    "scrolled": true
   },
   "outputs": [],
   "source": [
    "bestVersion = ProbabilisticMatrixFactorization(learning_rate=best_params['learning_rate'],\n",
    "                                               num_epochs=best_params['num_epochs'],\n",
    "                                               num_factors=best_params['num_factors'])"
   ]
  },
  {
   "cell_type": "code",
   "execution_count": 43,
   "metadata": {
    "scrolled": true
   },
   "outputs": [
    {
     "name": "stdout",
     "output_type": "stream",
     "text": [
      "RMSE: 0.9515\n",
      "RMSE: 0.9310\n",
      "RMSE: 0.9373\n",
      "RMSE: 0.9368\n",
      "RMSE: 0.9703\n",
      "RMSE: 0.9370\n",
      "RMSE: 0.9329\n",
      "RMSE: 0.9339\n",
      "RMSE: 0.9389\n",
      "RMSE: 0.9642\n"
     ]
    }
   ],
   "source": [
    "#we can use k-fold cross validation to evaluate the best model. \n",
    "kSplit = surprise.model_selection.KFold(n_splits=10,shuffle=True)\n",
    "for train,test in kSplit.split(data_movies_ratings):\n",
    "    bestVersion.fit(train)\n",
    "    prediction = bestVersion.test(test)\n",
    "    surprise.accuracy.rmse(prediction,verbose=True)"
   ]
  },
  {
   "cell_type": "markdown",
   "metadata": {},
   "source": [
    "### 5.2.2 Evaluating the Model Performance"
   ]
  },
  {
   "cell_type": "code",
   "execution_count": 45,
   "metadata": {},
   "outputs": [
    {
     "name": "stdout",
     "output_type": "stream",
     "text": [
      "273 7065 : 3.5120607504466945  <--->  4.0\n"
     ]
    }
   ],
   "source": [
    "Alg1 = ProbabilisticMatrixFactorization(learning_rate=best_params['learning_rate'],\n",
    "                                        num_epochs=best_params['num_epochs'],\n",
    "                                        num_factors=best_params['num_factors'])\n",
    "\n",
    "data1 = data_movies_ratings.build_full_trainset()\n",
    "Alg1.fit(data1)"
   ]
  },
  {
   "cell_type": "code",
   "execution_count": 48,
   "metadata": {},
   "outputs": [
    {
     "name": "stdout",
     "output_type": "stream",
     "text": [
      "25503 :  604 5961 Blue Steel (1990) : 4  <--->  2\n",
      "32283 :  283 379 Timecop (1994) : 2  <--->  4\n",
      "34065 :  371 361 It Could Happen to You (1994) : 4  <--->  3\n",
      "37963 :  352 220 Castle Freak (1995) : 3  <--->  3\n",
      "67059 :  88 8807 Harold and Kumar Go to White Castle (2004) : 4  <--->  5\n",
      "5713 :  566 8008 Brigadoon (1954) : 4  <--->  2\n",
      "56668 :  416 3569 Idiots, The (Idioterne) (1998) : 3  <--->  5\n",
      "65226 :  287 6539 Pirates of the Caribbean: The Curse of the Black Pearl (2003) : 4  <--->  4\n",
      "28239 :  129 508 Philadelphia (1993) : 3  <--->  3\n",
      "35463 :  473 735 Cemetery Man (Dellamorte Dellamore) (1994) : 4  <--->  4\n"
     ]
    }
   ],
   "source": [
    "for i in range(10):\n",
    "    index = random.randint(1, movies_ratings.shape[0] - 1)\n",
    "    print(index, \": \", movies_ratings.userId.iloc[index], movies_ratings.movieId.iloc[index], \n",
    "          movies_ratings.title.iloc[index], \":\", \n",
    "          round(Alg1.estimate(movies_ratings.userId.iloc[index],movies_ratings.movieId.iloc[index])), \n",
    "          \" <---> \", round(movies_ratings.rating.iloc[index]))"
   ]
  }
 ],
 "metadata": {
  "kernelspec": {
   "display_name": "tensorflow_gpuenv",
   "language": "python",
   "name": "tensorflow_gpuenv"
  },
  "language_info": {
   "codemirror_mode": {
    "name": "ipython",
    "version": 3
   },
   "file_extension": ".py",
   "mimetype": "text/x-python",
   "name": "python",
   "nbconvert_exporter": "python",
   "pygments_lexer": "ipython3",
   "version": "3.6.10"
  }
 },
 "nbformat": 4,
 "nbformat_minor": 4
}
